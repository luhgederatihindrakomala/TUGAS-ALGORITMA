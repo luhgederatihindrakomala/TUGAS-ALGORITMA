{
  "nbformat": 4,
  "nbformat_minor": 0,
  "metadata": {
    "colab": {
      "provenance": []
    },
    "kernelspec": {
      "name": "python3",
      "display_name": "Python 3"
    },
    "language_info": {
      "name": "python"
    }
  },
  "cells": [
    {
      "cell_type": "code",
      "execution_count": 3,
      "metadata": {
        "colab": {
          "base_uri": "https://localhost:8080/"
        },
        "id": "Myy_1ZcYY8M2",
        "outputId": "6ebda946-e70b-43e6-f948-fdeadeeeb2fa"
      },
      "outputs": [
        {
          "output_type": "stream",
          "name": "stdout",
          "text": [
            "Hai,bagaimana harimu?Baik atau buruk?\n",
            "Hariku Baik\n",
            "Aku senang membacanya, semoga selalu begitu\n",
            "Bagaimana jika kita bermain tebak-tebakan?\n",
            "Setuju atau tidak jika kita bermain? Setuju\n",
            "Coba kamu tebak yaa\n",
            "Buah apa yang sering disebut sebagai buah durhaka?\n",
            "Nah, apatu jawabannya Anggur\n",
            "Jawaban kamuu belum tepat\n",
            "Tebak lagi dong Salak\n",
            "Hmmm jawabanmu belum tepat\n",
            "Coba kamu tebak lagi Mangga\n",
            "Sayang sekali jawabanmu masih belum tepat\n",
            "Apakah kamu mau tau jawabannya?\n",
            "Ya atau Tidak Ya\n",
            "Jawabannya adalah melon kundang, apakah kamu belum kepikiran?\n",
            "semoga bisa membuatmu tersenyum\n"
          ]
        }
      ],
      "source": [
        "print(\"Hai,bagaimana harimu?Baik atau buruk?\")\n",
        "kabar_40 = input(\"Hariku \")\n",
        "if kabar_40 == \"Baik\":\n",
        "    print(\"Aku senang membacanya, semoga selalu begitu\")\n",
        "else:\n",
        "    print(\"Jalani dengan semangat dan sneyuman yaa\")\n",
        "print(\"Bagaimana jika kita bermain tebak-tebakan?\")\n",
        "tebak_aku_40 = input(\"Setuju atau tidak jika kita bermain? \")\n",
        "if tebak_aku_40 == \"Setuju\":\n",
        "    print(\"Coba kamu tebak yaa\")\n",
        "    print(\"Buah apa yang sering disebut sebagai buah durhaka?\")\n",
        "    tebak_aku_40 = input(\"Nah, apatu jawabannya \")\n",
        "    if tebak_aku_40 == \"Melon kundang\":\n",
        "        print(\"Logikamu sangat aku kagumi\")\n",
        "    else:\n",
        "        print(\"Jawaban kamuu belum tepat\")\n",
        "        tebak_aku_40 = input(\"Tebak lagi dong \")\n",
        "    if tebak_aku_40 == \"Melon kundang\":\n",
        "        print(\"Kesempatannya kamu gunakan dengan sangat baik\")\n",
        "    else:\n",
        "        print(\"Hmmm jawabanmu belum tepat\")\n",
        "        jawaban_40 = input(\"Coba kamu tebak lagi \")\n",
        "        if tebak_aku_40 == \"Melon kundang\":\n",
        "            print(\"Wowww, luar biasa, jawaban kamu benar\")\n",
        "        else:\n",
        "            print(\"Sayang sekali jawabanmu masih belum tepat\")\n",
        "            print(\"Apakah kamu mau tau jawabannya?\")\n",
        "            jawaban_40 = input(\"Ya atau Tidak \")\n",
        "        if jawaban_40 == \"Ya\":\n",
        "            print(\"Jawabannya adalah melon kundang, apakah kamu belum kepikiran?\")\n",
        "        elif jawaban_40 == \"Tidak\":\n",
        "            print(\"Baiklah tidak masalah, semoga harimu menyenangkan\")\n",
        "        else:\n",
        "            print(\"Masukkan anda salah\")\n",
        "elif tebak_aku_40 == \"Tidak\":\n",
        "    print(\"Baiklah, tidak masalah, have fun dengan harimu\")\n",
        "else:\n",
        "    print(\"masukkan kurang sesuai\")\n",
        "print(\"semoga bisa membuatmu tersenyum\")"
      ]
    },
    {
      "cell_type": "code",
      "source": [
        "harga_ayam_40 = float(input(\"Harga ayam bakar adalah \"))\n",
        "if harga_ayam_40 >= 20000:\n",
        "    print(\"Wah, saya mau pesan \")\n",
        "    print(\"Mau pesan apa? Ada ayam bakar cabai, ayam bakar sambal ijo\")\n",
        "    pesanan_40 = input(\"Saya mau pesan \")\n",
        "    print(\"Baik, mohon ditunggu\")\n",
        "elif harga_ayam_40 <= 30000 and harga_ayam_40 >= 25000:\n",
        "    print(\"Yahhh, saya hanya membawa uang 25000\")\n",
        "    print(\"Anda bisa memesan ayam goreng saja\")\n",
        "else:\n",
        "    print(\"Masukkan anda belum tepat\")"
      ],
      "metadata": {
        "colab": {
          "base_uri": "https://localhost:8080/"
        },
        "id": "RjrO4U9_cD9b",
        "outputId": "00b0a9c8-a278-469a-f587-6d36c984145b"
      },
      "execution_count": 9,
      "outputs": [
        {
          "output_type": "stream",
          "name": "stdout",
          "text": [
            "Harga ayam bakar adalah 21000\n",
            "Wah, saya mau pesan \n",
            "Mau pesan apa? Ada ayam bakar cabai, ayam bakar sambal ijo\n",
            "Saya mau pesan ayam bakar sambal ijo\n",
            "Baik, mohon ditunggu\n"
          ]
        }
      ]
    },
    {
      "cell_type": "code",
      "source": [
        "skor_40 = float(input(\"Skor anda adalah \"))\n",
        "if skor_40 >= 8:\n",
        "    print(\"Anda mendapatkan predikat A\")\n",
        "    print(\"Pertahankan prestasimu\")\n",
        "elif skor_40 >= 7:\n",
        "    print(\"Anda mendapatkan predikat B\")\n",
        "    print(\"Tingkatkan prestasimu!\")\n",
        "elif skor_40 >= 6:\n",
        "    print(\"Anda mendapatkan predikat C\")\n",
        "    print(\"Tingkatkan kemampuan belajarmu!\")\n",
        "elif skor_40 >= 5:\n",
        "    print(\"Anda mendapatkan predikat D\")\n",
        "    print(\"Rajinlah berlatih, tingkatkan waktu belajarmu!\")\n",
        "else:\n",
        "    print(\"Anda mendapatkan predikat E\")\n",
        "    print(\"Kamu harus mengulang tahun depan\")"
      ],
      "metadata": {
        "colab": {
          "base_uri": "https://localhost:8080/"
        },
        "id": "ZJPi3AvXgeP3",
        "outputId": "3eff5281-7dd4-465f-9f89-1051b4b5c431"
      },
      "execution_count": 14,
      "outputs": [
        {
          "output_type": "stream",
          "name": "stdout",
          "text": [
            "Skor anda adalah 9\n",
            "Anda mendapatkan predikat A\n",
            "Pertahankan prestasimu\n"
          ]
        }
      ]
    },
    {
      "cell_type": "code",
      "source": [
        "berat_40 = float(input(\"Berapakah berat badan kamu? \"))\n",
        "kg_atau_g_40 = input(\"Beratnya dalam satuan kg atau g? \")\n",
        "if kg_atau_g_40.upper() == 'KG':\n",
        "    berat = berat_40*1000\n",
        "    print(\"Berat badan kamu adalah \" + str(berat) + \" g \")\n",
        "elif kg_atau_g_40.upper() == 'G':\n",
        "    berat = berat_40/1000\n",
        "    print(f\"Berat badan kamu adalah {berat} kg\")"
      ],
      "metadata": {
        "colab": {
          "base_uri": "https://localhost:8080/"
        },
        "id": "gjExWwYtgiPR",
        "outputId": "4968ef3b-c0e4-4f99-87ff-b5f418e1f74e"
      },
      "execution_count": 13,
      "outputs": [
        {
          "output_type": "stream",
          "name": "stdout",
          "text": [
            "Berapakah berat badan kamu? 52\n",
            "Beratnya dalam satuan kg atau g? KG\n",
            "Berat badan kamu adalah 52000.0 g \n"
          ]
        }
      ]
    },
    {
      "cell_type": "code",
      "source": [
        "a_40 = 1\n",
        "while a_40 < 10:\n",
        "    print(\"Angka \" + str(a_40)+\" masih dibawah 10\")\n",
        "    a_40+=1"
      ],
      "metadata": {
        "colab": {
          "base_uri": "https://localhost:8080/"
        },
        "id": "c862G31Jglrj",
        "outputId": "5195e0d8-53d6-4cfc-b6ce-016cf7fe5cc8"
      },
      "execution_count": 12,
      "outputs": [
        {
          "output_type": "stream",
          "name": "stdout",
          "text": [
            "Angka 1 masih dibawah 10\n",
            "Angka 2 masih dibawah 10\n",
            "Angka 3 masih dibawah 10\n",
            "Angka 4 masih dibawah 10\n",
            "Angka 5 masih dibawah 10\n",
            "Angka 6 masih dibawah 10\n",
            "Angka 7 masih dibawah 10\n",
            "Angka 8 masih dibawah 10\n",
            "Angka 9 masih dibawah 10\n"
          ]
        }
      ]
    },
    {
      "cell_type": "code",
      "source": [
        "harga_40 = float(input(\"Berapakah harga sepatu itu?\"))\n",
        "if harga_40 <= 500000:\n",
        "    print(\"Ayoo beli sepatu itu\")\n",
        "    print(\"Pilih dulu warnanya\")\n",
        "elif harga_40 >= 501000:\n",
        "    print(\"Coba liat jenis lainnya dulu\")\n",
        "warna_40 = input(\"Warna apa yang kamu ingin pilih? Apa putih, hitam, biru, merah, atau warna lainnya? \")\n",
        "if warna_40 == 'putih':\n",
        "      print(\"Wah pilihan yang bagus\")\n",
        "elif warna_40 == 'hitam':\n",
        "     print(\"Kamu sebaiknya mencoba terlebih dahulu\")\n",
        "elif warna_40 == 'biru':\n",
        "     print(\"Seleramu sungguh menarik\")\n",
        "else:\n",
        "      print(\"Mohon maaf, warna ini tidak ada ukuran\")"
      ],
      "metadata": {
        "colab": {
          "base_uri": "https://localhost:8080/"
        },
        "id": "e9_NQs8-grie",
        "outputId": "0d71e024-5ec6-4192-f078-1ef068ef5ee9"
      },
      "execution_count": 16,
      "outputs": [
        {
          "output_type": "stream",
          "name": "stdout",
          "text": [
            "Berapakah harga sepatu itu?300000\n",
            "Ayoo beli sepatu itu\n",
            "Pilih dulu warnanya\n",
            "Warna apa yang kamu ingin pilih? Apa putih, hitam, biru, merah, atau warna lainnya? biru\n",
            "Seleramu sungguh menarik\n"
          ]
        }
      ]
    },
    {
      "cell_type": "code",
      "source": [
        "a_40 = 0\n",
        "while a_40 < 10:\n",
        "  print(a_40 * 'r')\n",
        "  a_40 += 1"
      ],
      "metadata": {
        "colab": {
          "base_uri": "https://localhost:8080/"
        },
        "id": "nfoFTPaamATv",
        "outputId": "1ddc14d2-12a0-412d-b7fc-687b3f5adcaa"
      },
      "execution_count": 27,
      "outputs": [
        {
          "output_type": "stream",
          "name": "stdout",
          "text": [
            "\n",
            "r\n",
            "rr\n",
            "rrr\n",
            "rrrr\n",
            "rrrrr\n",
            "rrrrrr\n",
            "rrrrrrr\n",
            "rrrrrrrr\n",
            "rrrrrrrrr\n"
          ]
        }
      ]
    },
    {
      "cell_type": "code",
      "source": [
        "x_40 = 1\n",
        "while x_40 < 20:\n",
        "  print(x_40 * 'k')\n",
        "  x_40 *= 2"
      ],
      "metadata": {
        "colab": {
          "base_uri": "https://localhost:8080/"
        },
        "id": "GMX3vxTNmqsS",
        "outputId": "79eccb3c-bbfc-46bf-a1a3-11980a2d488c"
      },
      "execution_count": 33,
      "outputs": [
        {
          "output_type": "stream",
          "name": "stdout",
          "text": [
            "k\n",
            "kk\n",
            "kkkk\n",
            "kkkkkkkk\n",
            "kkkkkkkkkkkkkkkk\n"
          ]
        }
      ]
    },
    {
      "cell_type": "code",
      "source": [
        "x_40 = 2\n",
        "while x_40 < 25:\n",
        "  print(x_40 * 's')\n",
        "  x_40 *= 5"
      ],
      "metadata": {
        "colab": {
          "base_uri": "https://localhost:8080/"
        },
        "id": "y2xHwdqqrTT2",
        "outputId": "1943ea6c-de96-4020-f127-cd82a8d17b19"
      },
      "execution_count": 44,
      "outputs": [
        {
          "output_type": "stream",
          "name": "stdout",
          "text": [
            "ss\n",
            "ssssssssss\n"
          ]
        }
      ]
    },
    {
      "cell_type": "code",
      "source": [
        "pesan_sate_40 = float(input(\"Berapa sate yang kamu pesan? \"))\n",
        "if pesan_sate_40 >= 200:\n",
        "  print(\"Anda hantu\")\n",
        "elif pesan_sate_40 > 100 and pesan_sate_40 < 200:\n",
        "  print(\"Anda kemungkinan hantu\")\n",
        "elif pesan_sate_40 <= 100:\n",
        "  print(\"Anda manusia\")\n",
        "else:\n",
        "  print(\"Bukan ini yang saya butuhkan\")"
      ],
      "metadata": {
        "colab": {
          "base_uri": "https://localhost:8080/"
        },
        "id": "U1u12lwUwagA",
        "outputId": "2dc9d25a-521f-4d4c-abb1-ae7b902ecc0b"
      },
      "execution_count": 50,
      "outputs": [
        {
          "output_type": "stream",
          "name": "stdout",
          "text": [
            "Berapa sate yang kamu pesan? 100\n",
            "Anda manusia\n"
          ]
        }
      ]
    }
  ]
}
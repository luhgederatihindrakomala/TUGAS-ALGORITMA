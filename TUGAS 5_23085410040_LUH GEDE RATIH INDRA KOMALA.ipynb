{
  "nbformat": 4,
  "nbformat_minor": 0,
  "metadata": {
    "colab": {
      "provenance": []
    },
    "kernelspec": {
      "name": "python3",
      "display_name": "Python 3"
    },
    "language_info": {
      "name": "python"
    }
  },
  "cells": [
    {
      "cell_type": "code",
      "execution_count": null,
      "metadata": {
        "id": "p5AXdajpdsjd",
        "colab": {
          "base_uri": "https://localhost:8080/"
        },
        "outputId": "a4960de1-1b96-4513-f83b-a3eba37d3ef4"
      },
      "outputs": [
        {
          "output_type": "stream",
          "name": "stdout",
          "text": [
            "range(0, 15)\n"
          ]
        }
      ],
      "source": [
        "angka_40 = range(15)\n",
        "print(angka_40)"
      ]
    },
    {
      "cell_type": "code",
      "source": [
        "for isi_40 in angka_40:\n",
        "  print(isi_40)"
      ],
      "metadata": {
        "colab": {
          "base_uri": "https://localhost:8080/"
        },
        "id": "-CGcVOyTLmQL",
        "outputId": "54febe90-aa36-47e7-c716-732e9cec3eae"
      },
      "execution_count": null,
      "outputs": [
        {
          "output_type": "stream",
          "name": "stdout",
          "text": [
            "0\n",
            "1\n",
            "2\n",
            "3\n",
            "4\n",
            "5\n",
            "6\n",
            "7\n",
            "8\n",
            "9\n",
            "10\n",
            "11\n",
            "12\n",
            "13\n",
            "14\n"
          ]
        }
      ]
    },
    {
      "cell_type": "code",
      "source": [
        "for isi_40 in range(6,12):\n",
        "  print(isi_40)"
      ],
      "metadata": {
        "colab": {
          "base_uri": "https://localhost:8080/"
        },
        "id": "NuC0sIYtL0Qs",
        "outputId": "1784f32a-d7ad-4da8-a6d9-89d39f68ce93"
      },
      "execution_count": null,
      "outputs": [
        {
          "output_type": "stream",
          "name": "stdout",
          "text": [
            "6\n",
            "7\n",
            "8\n",
            "9\n",
            "10\n",
            "11\n"
          ]
        }
      ]
    },
    {
      "cell_type": "code",
      "source": [
        "for isi_40 in range(1,14,3):\n",
        "  print(isi_40)"
      ],
      "metadata": {
        "colab": {
          "base_uri": "https://localhost:8080/"
        },
        "id": "Bi3qX8K9L_M4",
        "outputId": "3bdcaab6-0832-487f-d8f6-e1fddc1a418b"
      },
      "execution_count": null,
      "outputs": [
        {
          "output_type": "stream",
          "name": "stdout",
          "text": [
            "1\n",
            "4\n",
            "7\n",
            "10\n",
            "13\n"
          ]
        }
      ]
    },
    {
      "cell_type": "code",
      "source": [
        "data_40 = [2,3,4,5,6,5,4,3,2]\n",
        "terbesar_40 = data_40[0]\n",
        "for i in range(len(data_40)):\n",
        "  if data_40[i] > terbesar_40:\n",
        "    terbesar_40 = data_40[i]\n",
        "print(terbesar_40)"
      ],
      "metadata": {
        "colab": {
          "base_uri": "https://localhost:8080/"
        },
        "id": "Z2ziPueKMWOu",
        "outputId": "f6f86c0a-0210-47cb-f26e-b40962459bab"
      },
      "execution_count": null,
      "outputs": [
        {
          "output_type": "stream",
          "name": "stdout",
          "text": [
            "6\n"
          ]
        }
      ]
    },
    {
      "cell_type": "code",
      "source": [
        "data_40 = [-1,1,2,3,5,6,-4,7,5,-6]\n",
        "terbesar_40 = data_40[0]\n",
        "for angka in data_40:\n",
        "  if angka > terbesar_40:\n",
        "    terbesar_40 = angka\n",
        "print(terbesar_40)"
      ],
      "metadata": {
        "colab": {
          "base_uri": "https://localhost:8080/"
        },
        "id": "iERILgeONNIp",
        "outputId": "da4add40-d437-484d-877c-68b09b5097fd"
      },
      "execution_count": null,
      "outputs": [
        {
          "output_type": "stream",
          "name": "stdout",
          "text": [
            "7\n"
          ]
        }
      ]
    },
    {
      "cell_type": "code",
      "source": [
        "angka_40 = [23,24,25,26,23,24,24,27,28,24,25]\n",
        "angka_unik_40 = []\n",
        "for anggota in angka_40:\n",
        "  if anggota not in angka_unik_40:\n",
        "    angka_unik_40.append(anggota)\n",
        "print(angka_unik_40)"
      ],
      "metadata": {
        "colab": {
          "base_uri": "https://localhost:8080/"
        },
        "id": "I_qlE-HfPgMm",
        "outputId": "a3190556-20f6-499d-fe94-bf599d9b7308"
      },
      "execution_count": null,
      "outputs": [
        {
          "output_type": "stream",
          "name": "stdout",
          "text": [
            "[23, 24, 25, 26, 27, 28]\n"
          ]
        }
      ]
    },
    {
      "cell_type": "code",
      "source": [
        "angka_40 = [-1,-2,-3,-4,-3,-2,-5,-3,-1,-2,-5]\n",
        "angka_unik_40 = []\n",
        "for anggota in angka_40:\n",
        "  if anggota not in angka_unik_40:\n",
        "    angka_unik_40.append(anggota)\n",
        "print(angka_unik_40)"
      ],
      "metadata": {
        "colab": {
          "base_uri": "https://localhost:8080/"
        },
        "id": "K2JWUcrgQRhA",
        "outputId": "3bd80271-f9cc-4154-f21f-cdabcb16aea4"
      },
      "execution_count": null,
      "outputs": [
        {
          "output_type": "stream",
          "name": "stdout",
          "text": [
            "[-1, -2, -3, -4, -5]\n"
          ]
        }
      ]
    },
    {
      "cell_type": "code",
      "source": [
        "matrik_40 = [\n",
        "  [50,51,52,53,53,55],\n",
        "  [56,57,58,59,60,61],\n",
        "  [62,62,64,65,66,67],\n",
        "  [68,69,70,71,72,73],\n",
        "  [74,75,76,77,78,79]\n",
        "]\n",
        "print(matrik_40)"
      ],
      "metadata": {
        "colab": {
          "base_uri": "https://localhost:8080/"
        },
        "id": "wTalvTu3R5LW",
        "outputId": "2f569eca-9939-464b-ff08-2b16e4f1f373"
      },
      "execution_count": null,
      "outputs": [
        {
          "output_type": "stream",
          "name": "stdout",
          "text": [
            "[[50, 51, 52, 53, 53, 55], [56, 57, 58, 59, 60, 61], [62, 62, 64, 65, 66, 67], [68, 69, 70, 71, 72, 73], [74, 75, 76, 77, 78, 79]]\n"
          ]
        }
      ]
    },
    {
      "cell_type": "code",
      "source": [
        "matrik_40[1]"
      ],
      "metadata": {
        "colab": {
          "base_uri": "https://localhost:8080/"
        },
        "id": "tOlAgobLT_bS",
        "outputId": "c1eec524-9616-4c2e-d6a5-2c1ec0ac62fc"
      },
      "execution_count": null,
      "outputs": [
        {
          "output_type": "execute_result",
          "data": {
            "text/plain": [
              "[56, 57, 58, 59, 60, 61]"
            ]
          },
          "metadata": {},
          "execution_count": 10
        }
      ]
    },
    {
      "cell_type": "code",
      "source": [
        "matrik_40[2]"
      ],
      "metadata": {
        "colab": {
          "base_uri": "https://localhost:8080/"
        },
        "id": "Yg0b-I7-UFxt",
        "outputId": "001b0203-d6e5-44d0-9bd2-6b63bc6e823c"
      },
      "execution_count": null,
      "outputs": [
        {
          "output_type": "execute_result",
          "data": {
            "text/plain": [
              "[62, 62, 64, 65, 66, 67]"
            ]
          },
          "metadata": {},
          "execution_count": 11
        }
      ]
    },
    {
      "cell_type": "code",
      "source": [
        "matrik_40[3]"
      ],
      "metadata": {
        "colab": {
          "base_uri": "https://localhost:8080/"
        },
        "id": "uj38fnZaUJ1t",
        "outputId": "0cc181c4-9e54-4d43-913b-26ae1d0085a4"
      },
      "execution_count": null,
      "outputs": [
        {
          "output_type": "execute_result",
          "data": {
            "text/plain": [
              "[68, 69, 70, 71, 72, 73]"
            ]
          },
          "metadata": {},
          "execution_count": 12
        }
      ]
    },
    {
      "cell_type": "code",
      "source": [
        "matrik_40[4]"
      ],
      "metadata": {
        "colab": {
          "base_uri": "https://localhost:8080/"
        },
        "id": "tO4PL5eWUM-W",
        "outputId": "7832033c-a4e0-44bc-9cc0-c66475a641eb"
      },
      "execution_count": null,
      "outputs": [
        {
          "output_type": "execute_result",
          "data": {
            "text/plain": [
              "[74, 75, 76, 77, 78, 79]"
            ]
          },
          "metadata": {},
          "execution_count": 13
        }
      ]
    },
    {
      "cell_type": "code",
      "source": [
        "matrik_40[1][2]"
      ],
      "metadata": {
        "colab": {
          "base_uri": "https://localhost:8080/"
        },
        "id": "0dsQHUQqUOwu",
        "outputId": "05cd5ffa-4f6b-4932-84d5-08e2fbd3b1aa"
      },
      "execution_count": null,
      "outputs": [
        {
          "output_type": "execute_result",
          "data": {
            "text/plain": [
              "58"
            ]
          },
          "metadata": {},
          "execution_count": 14
        }
      ]
    },
    {
      "cell_type": "code",
      "source": [
        "matrik_40[1][3]"
      ],
      "metadata": {
        "colab": {
          "base_uri": "https://localhost:8080/"
        },
        "id": "4gHgpVkPUQqt",
        "outputId": "cbf607a4-2031-41c7-9958-4983bc2eed5f"
      },
      "execution_count": null,
      "outputs": [
        {
          "output_type": "execute_result",
          "data": {
            "text/plain": [
              "59"
            ]
          },
          "metadata": {},
          "execution_count": 15
        }
      ]
    },
    {
      "cell_type": "code",
      "source": [
        "matrik_40[1][4]"
      ],
      "metadata": {
        "colab": {
          "base_uri": "https://localhost:8080/"
        },
        "id": "VGX1lDWEWDu_",
        "outputId": "f023f4b4-a7c7-472f-c697-4b8873ec648d"
      },
      "execution_count": null,
      "outputs": [
        {
          "output_type": "execute_result",
          "data": {
            "text/plain": [
              "60"
            ]
          },
          "metadata": {},
          "execution_count": 16
        }
      ]
    },
    {
      "cell_type": "code",
      "source": [
        "matrik_40[1][5]"
      ],
      "metadata": {
        "colab": {
          "base_uri": "https://localhost:8080/"
        },
        "id": "MNcJGUQOWH7r",
        "outputId": "6da51852-a786-4a41-8e06-b8c3919314b7"
      },
      "execution_count": null,
      "outputs": [
        {
          "output_type": "execute_result",
          "data": {
            "text/plain": [
              "61"
            ]
          },
          "metadata": {},
          "execution_count": 17
        }
      ]
    },
    {
      "cell_type": "code",
      "source": [
        "matrik_40[2][3]"
      ],
      "metadata": {
        "colab": {
          "base_uri": "https://localhost:8080/"
        },
        "id": "QDcNqgKvWL-e",
        "outputId": "80ece3c7-70aa-487b-a926-96c4ef05e40e"
      },
      "execution_count": null,
      "outputs": [
        {
          "output_type": "execute_result",
          "data": {
            "text/plain": [
              "65"
            ]
          },
          "metadata": {},
          "execution_count": 18
        }
      ]
    },
    {
      "cell_type": "code",
      "source": [
        "matrik_40[4][3]"
      ],
      "metadata": {
        "colab": {
          "base_uri": "https://localhost:8080/"
        },
        "id": "fMy7xyu1WVvM",
        "outputId": "64d8f1c1-3f87-4c90-b290-8675cdd4cad2"
      },
      "execution_count": null,
      "outputs": [
        {
          "output_type": "execute_result",
          "data": {
            "text/plain": [
              "77"
            ]
          },
          "metadata": {},
          "execution_count": 19
        }
      ]
    },
    {
      "cell_type": "code",
      "source": [
        "matrik_40[3][4]=50\n",
        "print(matrik_40[3][4])"
      ],
      "metadata": {
        "colab": {
          "base_uri": "https://localhost:8080/"
        },
        "id": "FqeI_bhLWaU-",
        "outputId": "710d6b71-adc3-4730-8e4d-4b10a119bf6e"
      },
      "execution_count": null,
      "outputs": [
        {
          "output_type": "stream",
          "name": "stdout",
          "text": [
            "50\n"
          ]
        }
      ]
    },
    {
      "cell_type": "code",
      "source": [
        "matrik_40"
      ],
      "metadata": {
        "colab": {
          "base_uri": "https://localhost:8080/"
        },
        "id": "qWsj9wZQWqgB",
        "outputId": "0cd5e526-95d6-43c1-f463-f15e687757a4"
      },
      "execution_count": null,
      "outputs": [
        {
          "output_type": "execute_result",
          "data": {
            "text/plain": [
              "[[50, 51, 52, 53, 53, 55],\n",
              " [56, 57, 58, 59, 60, 61],\n",
              " [62, 62, 64, 65, 66, 67],\n",
              " [68, 69, 70, 71, 50, 73],\n",
              " [74, 75, 76, 77, 78, 79]]"
            ]
          },
          "metadata": {},
          "execution_count": 21
        }
      ]
    },
    {
      "cell_type": "code",
      "source": [
        "for baris in matrik_40:\n",
        "  print(baris)\n",
        "  for kolom in matrik_40:\n",
        "    print(kolom)"
      ],
      "metadata": {
        "colab": {
          "base_uri": "https://localhost:8080/"
        },
        "id": "C6Sqz6aSWr7D",
        "outputId": "6af26c9d-03d3-4d07-beed-08dd366a9126"
      },
      "execution_count": null,
      "outputs": [
        {
          "output_type": "stream",
          "name": "stdout",
          "text": [
            "[50, 51, 52, 53, 53, 55]\n",
            "[50, 51, 52, 53, 53, 55]\n",
            "[56, 57, 58, 59, 60, 61]\n",
            "[62, 62, 64, 65, 66, 67]\n",
            "[68, 69, 70, 71, 50, 73]\n",
            "[74, 75, 76, 77, 78, 79]\n",
            "[56, 57, 58, 59, 60, 61]\n",
            "[50, 51, 52, 53, 53, 55]\n",
            "[56, 57, 58, 59, 60, 61]\n",
            "[62, 62, 64, 65, 66, 67]\n",
            "[68, 69, 70, 71, 50, 73]\n",
            "[74, 75, 76, 77, 78, 79]\n",
            "[62, 62, 64, 65, 66, 67]\n",
            "[50, 51, 52, 53, 53, 55]\n",
            "[56, 57, 58, 59, 60, 61]\n",
            "[62, 62, 64, 65, 66, 67]\n",
            "[68, 69, 70, 71, 50, 73]\n",
            "[74, 75, 76, 77, 78, 79]\n",
            "[68, 69, 70, 71, 50, 73]\n",
            "[50, 51, 52, 53, 53, 55]\n",
            "[56, 57, 58, 59, 60, 61]\n",
            "[62, 62, 64, 65, 66, 67]\n",
            "[68, 69, 70, 71, 50, 73]\n",
            "[74, 75, 76, 77, 78, 79]\n",
            "[74, 75, 76, 77, 78, 79]\n",
            "[50, 51, 52, 53, 53, 55]\n",
            "[56, 57, 58, 59, 60, 61]\n",
            "[62, 62, 64, 65, 66, 67]\n",
            "[68, 69, 70, 71, 50, 73]\n",
            "[74, 75, 76, 77, 78, 79]\n"
          ]
        }
      ]
    },
    {
      "cell_type": "code",
      "source": [
        "angka_40 = (-5,-4,-3,-2,-1,0,1,1,2,3,4,5)\n",
        "print(angka_40[0])"
      ],
      "metadata": {
        "id": "6aG7eKelW5aZ",
        "colab": {
          "base_uri": "https://localhost:8080/"
        },
        "outputId": "03d4b712-3c7d-4c29-e25d-a4d30fac3149"
      },
      "execution_count": null,
      "outputs": [
        {
          "output_type": "stream",
          "name": "stdout",
          "text": [
            "-5\n"
          ]
        }
      ]
    },
    {
      "cell_type": "code",
      "source": [
        "print(angka_40[0:4])"
      ],
      "metadata": {
        "colab": {
          "base_uri": "https://localhost:8080/"
        },
        "id": "8wmg5-MfEgsF",
        "outputId": "21156757-8212-475a-8967-4ba8d649b3f0"
      },
      "execution_count": null,
      "outputs": [
        {
          "output_type": "stream",
          "name": "stdout",
          "text": [
            "(-5, -4, -3, -2)\n"
          ]
        }
      ]
    },
    {
      "cell_type": "code",
      "source": [
        "print(angka_40[0:7])"
      ],
      "metadata": {
        "colab": {
          "base_uri": "https://localhost:8080/"
        },
        "id": "PsLewOBDFMHG",
        "outputId": "cdf11194-b411-4ffe-b315-90bb1b3da61c"
      },
      "execution_count": null,
      "outputs": [
        {
          "output_type": "stream",
          "name": "stdout",
          "text": [
            "(-5, -4, -3, -2, -1, 0, 1)\n"
          ]
        }
      ]
    },
    {
      "cell_type": "code",
      "source": [
        "print(angka_40[1:3])"
      ],
      "metadata": {
        "colab": {
          "base_uri": "https://localhost:8080/"
        },
        "id": "Yra8I3eKFU5U",
        "outputId": "ea270c25-5f84-4495-d77c-a648ecdbad06"
      },
      "execution_count": null,
      "outputs": [
        {
          "output_type": "stream",
          "name": "stdout",
          "text": [
            "(-4, -3)\n"
          ]
        }
      ]
    },
    {
      "cell_type": "code",
      "source": [
        "print(angka_40[2:0:1])"
      ],
      "metadata": {
        "colab": {
          "base_uri": "https://localhost:8080/"
        },
        "id": "eXxSJOYvF38H",
        "outputId": "2a0c2370-bdb5-4b6c-aa0d-f379fa06cf81"
      },
      "execution_count": null,
      "outputs": [
        {
          "output_type": "stream",
          "name": "stdout",
          "text": [
            "()\n"
          ]
        }
      ]
    },
    {
      "cell_type": "code",
      "source": [
        "print(angka_40[0:4:1])"
      ],
      "metadata": {
        "colab": {
          "base_uri": "https://localhost:8080/"
        },
        "id": "62J8H1G8HFic",
        "outputId": "a0b4d926-db86-4f19-e53d-ba9e07389b3c"
      },
      "execution_count": null,
      "outputs": [
        {
          "output_type": "stream",
          "name": "stdout",
          "text": [
            "(-5, -4, -3, -2)\n"
          ]
        }
      ]
    },
    {
      "cell_type": "code",
      "source": [
        "print(angka_40[0:4:2])"
      ],
      "metadata": {
        "colab": {
          "base_uri": "https://localhost:8080/"
        },
        "id": "6e7pzxpKHHsS",
        "outputId": "d09abd99-448b-4032-e162-15910ab60b06"
      },
      "execution_count": null,
      "outputs": [
        {
          "output_type": "stream",
          "name": "stdout",
          "text": [
            "(-5, -3)\n"
          ]
        }
      ]
    },
    {
      "cell_type": "code",
      "source": [
        "print(angka_40[0:4:3])"
      ],
      "metadata": {
        "colab": {
          "base_uri": "https://localhost:8080/"
        },
        "id": "A5wp9crgHL0p",
        "outputId": "03918185-e417-48c9-c367-ea7231e0b562"
      },
      "execution_count": null,
      "outputs": [
        {
          "output_type": "stream",
          "name": "stdout",
          "text": [
            "(-5, -2)\n"
          ]
        }
      ]
    },
    {
      "cell_type": "code",
      "source": [
        "for isi in angka_40[0:2]:\n",
        "  print(isi)"
      ],
      "metadata": {
        "colab": {
          "base_uri": "https://localhost:8080/"
        },
        "id": "YCocKk9KHvAJ",
        "outputId": "855fcf63-5c6a-425a-c20e-2d9f3957ce59"
      },
      "execution_count": null,
      "outputs": [
        {
          "output_type": "stream",
          "name": "stdout",
          "text": [
            "-5\n",
            "-4\n"
          ]
        }
      ]
    },
    {
      "cell_type": "code",
      "source": [
        "for isi in angka_40[1:5]:\n",
        "  print(isi)"
      ],
      "metadata": {
        "colab": {
          "base_uri": "https://localhost:8080/"
        },
        "id": "s9tL78uvH1vz",
        "outputId": "ccc2f109-bf1c-4ffe-b5a6-460d2dc38221"
      },
      "execution_count": null,
      "outputs": [
        {
          "output_type": "stream",
          "name": "stdout",
          "text": [
            "-4\n",
            "-3\n",
            "-2\n",
            "-1\n"
          ]
        }
      ]
    },
    {
      "cell_type": "code",
      "source": [
        "angka_40.count(1)"
      ],
      "metadata": {
        "colab": {
          "base_uri": "https://localhost:8080/"
        },
        "id": "NboyAekTIbDr",
        "outputId": "d2e29189-5cf0-4b45-a5ac-70d6114b83e7"
      },
      "execution_count": null,
      "outputs": [
        {
          "output_type": "execute_result",
          "data": {
            "text/plain": [
              "2"
            ]
          },
          "metadata": {},
          "execution_count": 33
        }
      ]
    },
    {
      "cell_type": "code",
      "source": [
        "angka_40.count(2)"
      ],
      "metadata": {
        "colab": {
          "base_uri": "https://localhost:8080/"
        },
        "id": "vQoFxPQXJYdD",
        "outputId": "fdc5dd28-08c7-4fc9-8517-5dd20c815a3f"
      },
      "execution_count": null,
      "outputs": [
        {
          "output_type": "execute_result",
          "data": {
            "text/plain": [
              "1"
            ]
          },
          "metadata": {},
          "execution_count": 34
        }
      ]
    },
    {
      "cell_type": "code",
      "source": [
        "angka_40.count(3)"
      ],
      "metadata": {
        "colab": {
          "base_uri": "https://localhost:8080/"
        },
        "id": "sPYcQcmdKbyz",
        "outputId": "f3963636-634e-4f80-b3e1-4ff42e8cc8e3"
      },
      "execution_count": null,
      "outputs": [
        {
          "output_type": "execute_result",
          "data": {
            "text/plain": [
              "1"
            ]
          },
          "metadata": {},
          "execution_count": 35
        }
      ]
    },
    {
      "cell_type": "code",
      "source": [
        "angka_40.index(5)"
      ],
      "metadata": {
        "colab": {
          "base_uri": "https://localhost:8080/"
        },
        "id": "L4r-Gl1LKdaq",
        "outputId": "ea3ee2cb-818f-4467-edd6-8440c505085e"
      },
      "execution_count": null,
      "outputs": [
        {
          "output_type": "execute_result",
          "data": {
            "text/plain": [
              "11"
            ]
          },
          "metadata": {},
          "execution_count": 36
        }
      ]
    },
    {
      "cell_type": "code",
      "source": [
        "angka_40.index(2)"
      ],
      "metadata": {
        "colab": {
          "base_uri": "https://localhost:8080/"
        },
        "id": "L85lSmxZKjJY",
        "outputId": "8ddce930-9b9a-49f2-f044-747244bf39d1"
      },
      "execution_count": null,
      "outputs": [
        {
          "output_type": "execute_result",
          "data": {
            "text/plain": [
              "8"
            ]
          },
          "metadata": {},
          "execution_count": 37
        }
      ]
    },
    {
      "cell_type": "code",
      "source": [
        "data_orang_40 = {\n",
        "    \"nama_40\" : \"Ayuandra Gita Bajra\",\n",
        "    \"usia_40\" : 19,\n",
        "    \"apakah_menyukai_drama_40\" : False\n",
        "}\n",
        "print(data_orang_40['nama_40'])"
      ],
      "metadata": {
        "colab": {
          "base_uri": "https://localhost:8080/"
        },
        "id": "ULH9pWZpKoCd",
        "outputId": "36261245-dc60-4061-c99e-334ac28e8fa7"
      },
      "execution_count": null,
      "outputs": [
        {
          "output_type": "stream",
          "name": "stdout",
          "text": [
            "Ayuandra Gita Bajra\n"
          ]
        }
      ]
    },
    {
      "cell_type": "code",
      "source": [
        "print(data_orang_40.get('nama_40'))"
      ],
      "metadata": {
        "colab": {
          "base_uri": "https://localhost:8080/"
        },
        "id": "VkYg3ztsdKHn",
        "outputId": "42400836-d308-48d4-be53-7175b5e52793"
      },
      "execution_count": null,
      "outputs": [
        {
          "output_type": "stream",
          "name": "stdout",
          "text": [
            "Ayuandra Gita Bajra\n"
          ]
        }
      ]
    },
    {
      "cell_type": "code",
      "source": [
        "print(data_orang_40.get('tanggal_lahir'))"
      ],
      "metadata": {
        "colab": {
          "base_uri": "https://localhost:8080/"
        },
        "id": "DadUgj2LexU6",
        "outputId": "d8aee3e2-d269-4c59-d1b4-fc3da56b3553"
      },
      "execution_count": null,
      "outputs": [
        {
          "output_type": "stream",
          "name": "stdout",
          "text": [
            "None\n"
          ]
        }
      ]
    },
    {
      "cell_type": "code",
      "source": [
        "print(data_orang_40.get('tanggal_lahir_40', '23-4-2024'))"
      ],
      "metadata": {
        "colab": {
          "base_uri": "https://localhost:8080/"
        },
        "id": "E4yi--z0fJnc",
        "outputId": "da88da0f-95b5-49b0-e206-1cf811548beb"
      },
      "execution_count": null,
      "outputs": [
        {
          "output_type": "stream",
          "name": "stdout",
          "text": [
            "23-4-2024\n"
          ]
        }
      ]
    },
    {
      "cell_type": "code",
      "source": [
        "print(data_orang_40)"
      ],
      "metadata": {
        "colab": {
          "base_uri": "https://localhost:8080/"
        },
        "id": "SpXphFg0fPKo",
        "outputId": "0ada8abf-2ea9-4639-a922-3d84e9ec74b7"
      },
      "execution_count": null,
      "outputs": [
        {
          "output_type": "stream",
          "name": "stdout",
          "text": [
            "{'nama_40': 'Ayuandra Gita Bajra', 'usia_40': 19, 'apakah_menyukai_drama_40': False}\n"
          ]
        }
      ]
    },
    {
      "cell_type": "code",
      "source": [
        "data_orang_40['hp'] = '081236371277'\n",
        "print(data_orang_40[\"hp\"])"
      ],
      "metadata": {
        "colab": {
          "base_uri": "https://localhost:8080/"
        },
        "id": "K42_cid2fVNT",
        "outputId": "27af2a2a-6cb2-45d6-9b87-6d23712a55de"
      },
      "execution_count": null,
      "outputs": [
        {
          "output_type": "stream",
          "name": "stdout",
          "text": [
            "081236371277\n"
          ]
        }
      ]
    },
    {
      "cell_type": "code",
      "source": [
        "print(data_orang_40)"
      ],
      "metadata": {
        "colab": {
          "base_uri": "https://localhost:8080/"
        },
        "id": "J8NGhQLXgP0X",
        "outputId": "3dedd2d9-c2ae-410b-ea4d-c96b7d0a465a"
      },
      "execution_count": null,
      "outputs": [
        {
          "output_type": "stream",
          "name": "stdout",
          "text": [
            "{'nama_40': 'Ayuandra Gita Bajra', 'usia_40': 19, 'apakah_menyukai_drama_40': False, 'hp': '081236371277'}\n"
          ]
        }
      ]
    },
    {
      "cell_type": "code",
      "source": [
        "data_orang_40 = {\n",
        "    \"nama_40\" : \"Dwita Ayu\",\n",
        "    \"usia_40\" : 17,\n",
        "    \"tinggi_badan_40\" : 154,\n",
        "    \"hobby_40\" : \"membaca novel\"\n",
        "}\n",
        "print(data_orang_40['nama_40'])"
      ],
      "metadata": {
        "colab": {
          "base_uri": "https://localhost:8080/"
        },
        "id": "FtYdBK4EWp-r",
        "outputId": "2c4c2a35-7822-4089-d3df-21cac2b4cc9b"
      },
      "execution_count": 2,
      "outputs": [
        {
          "output_type": "stream",
          "name": "stdout",
          "text": [
            "Dwita Ayu\n"
          ]
        }
      ]
    },
    {
      "cell_type": "code",
      "source": [
        "print(data_orang_40.get('warna_40', 'biru'))"
      ],
      "metadata": {
        "colab": {
          "base_uri": "https://localhost:8080/"
        },
        "id": "dJXtSC82Xsao",
        "outputId": "59089626-ba63-499d-9800-4cb76711d467"
      },
      "execution_count": 6,
      "outputs": [
        {
          "output_type": "stream",
          "name": "stdout",
          "text": [
            "biru\n"
          ]
        }
      ]
    },
    {
      "cell_type": "code",
      "source": [
        "print(data_orang_40[\"hobby_40\"])"
      ],
      "metadata": {
        "colab": {
          "base_uri": "https://localhost:8080/"
        },
        "id": "qxPoG4DZX6bX",
        "outputId": "30d520a8-602d-4aa9-be4c-85e4c0f7934c"
      },
      "execution_count": 9,
      "outputs": [
        {
          "output_type": "stream",
          "name": "stdout",
          "text": [
            "membaca novel\n"
          ]
        }
      ]
    },
    {
      "cell_type": "code",
      "source": [
        "data_orang_40['berat_badan_40'] = '50 kg'\n",
        "print(data_orang_40[\"berat_badan_40\"])"
      ],
      "metadata": {
        "colab": {
          "base_uri": "https://localhost:8080/"
        },
        "id": "tjhtt1VmYdNC",
        "outputId": "73594ff2-3dea-4bef-f2f2-655da0e82a12"
      },
      "execution_count": 10,
      "outputs": [
        {
          "output_type": "stream",
          "name": "stdout",
          "text": [
            "50 kg\n"
          ]
        }
      ]
    },
    {
      "cell_type": "code",
      "source": [
        "angka_40 = {\n",
        "    \"0\" : \"nol\",\n",
        "    \"1\" : \"satu\",\n",
        "    \"2\" : \"dua\",\n",
        "    \"3\" : \"tiga\",\n",
        "    \"4\" : \"empat\",\n",
        "    \"5\" : \"lima\",\n",
        "    \"6\" : \"enam\",\n",
        "    \"7\" : \"tujuh\",\n",
        "    \"8\" : \"delapan\",\n",
        "    \"9\" : \"sembilan\"\n",
        "}\n",
        "nomor_hp_40 = input(\"Masukkan nomor hp kamu \")\n",
        "nomor_angka_40 = \"\"\n",
        "for isi in nomor_hp_40:\n",
        "  nomor_angka_40 += angka_40.get(isi) + \" \"\n",
        "print(nomor_angka_40)"
      ],
      "metadata": {
        "colab": {
          "base_uri": "https://localhost:8080/"
        },
        "id": "n2V1kcHXVVwt",
        "outputId": "fa31e2db-85d9-4f96-c659-563be1066ba8"
      },
      "execution_count": null,
      "outputs": [
        {
          "output_type": "stream",
          "name": "stdout",
          "text": [
            "Masukkan nomor hp kamu 081236371277\n",
            "nol delapan satu dua tiga enam tiga tujuh satu dua tujuh tujuh \n"
          ]
        }
      ]
    },
    {
      "cell_type": "code",
      "source": [
        "def full_nama_40(first_name_40,last_name_40):\n",
        "  print(f\"Nama lengkapnya adalah {first_name_40} {last_name_40}\")\n",
        "first_name_40 = input(\"Nama depan anda adalah \")\n",
        "last_name_40 = input(\"Nama belakang anda adalah \")\n",
        "full_nama_40(first_name_40,last_name_40)"
      ],
      "metadata": {
        "colab": {
          "base_uri": "https://localhost:8080/"
        },
        "id": "X0HuEE_RYN7z",
        "outputId": "080f136a-2d15-42a8-d201-d8e7902ee877"
      },
      "execution_count": null,
      "outputs": [
        {
          "output_type": "stream",
          "name": "stdout",
          "text": [
            "Nama depan anda adalah Ratih\n",
            "Nama belakang anda adalah Indra\n",
            "Nama lengkapnya adalah Ratih Indra\n"
          ]
        }
      ]
    },
    {
      "cell_type": "code",
      "source": [
        "def waktu_tiba_40(jarak,kecepatan):\n",
        "  waktu_40 = jarak/kecepatan\n",
        "  print(waktu_40)\n",
        "waktu_tiba_40(75,60)"
      ],
      "metadata": {
        "colab": {
          "base_uri": "https://localhost:8080/"
        },
        "id": "2csPJqEJWUBa",
        "outputId": "b5a95f3e-6a31-408c-d9f6-2cb6cc9a8fc6"
      },
      "execution_count": null,
      "outputs": [
        {
          "output_type": "stream",
          "name": "stdout",
          "text": [
            "1.25\n"
          ]
        }
      ]
    },
    {
      "cell_type": "code",
      "source": [
        "def waktu_tempuh_40(jarak,kecepatan):\n",
        "  waktu_40 = jarak/kecepatan\n",
        "  return waktu_40\n",
        "waktu_tempuh_40(75,60)"
      ],
      "metadata": {
        "colab": {
          "base_uri": "https://localhost:8080/"
        },
        "id": "qHOcEE65Wqql",
        "outputId": "fcb93082-8799-4c68-9d27-9a0ede0a3e38"
      },
      "execution_count": null,
      "outputs": [
        {
          "output_type": "execute_result",
          "data": {
            "text/plain": [
              "1.25"
            ]
          },
          "metadata": {},
          "execution_count": 66
        }
      ]
    },
    {
      "cell_type": "code",
      "source": [
        "p_40 = waktu_tiba_40(15,25)\n",
        "print(p_40)\n"
      ],
      "metadata": {
        "colab": {
          "base_uri": "https://localhost:8080/"
        },
        "id": "PefWyc28XXeM",
        "outputId": "fd84703d-706e-4a6c-dd52-dfea33e862af"
      },
      "execution_count": null,
      "outputs": [
        {
          "output_type": "stream",
          "name": "stdout",
          "text": [
            "0.6\n",
            "None\n"
          ]
        }
      ]
    },
    {
      "cell_type": "code",
      "source": [
        "q_40 = waktu_tiba_40(30,45)\n",
        "print(q_40)"
      ],
      "metadata": {
        "colab": {
          "base_uri": "https://localhost:8080/"
        },
        "id": "yLP1297TXiB6",
        "outputId": "964d9f85-9e72-4ec7-dc5a-26377e8749ad"
      },
      "execution_count": null,
      "outputs": [
        {
          "output_type": "stream",
          "name": "stdout",
          "text": [
            "0.6666666666666666\n",
            "None\n"
          ]
        }
      ]
    }
  ]
}
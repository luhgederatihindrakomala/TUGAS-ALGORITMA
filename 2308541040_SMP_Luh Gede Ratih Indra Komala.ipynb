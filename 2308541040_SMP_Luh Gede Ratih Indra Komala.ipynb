{
  "nbformat": 4,
  "nbformat_minor": 0,
  "metadata": {
    "colab": {
      "provenance": []
    },
    "kernelspec": {
      "name": "python3",
      "display_name": "Python 3"
    },
    "language_info": {
      "name": "python"
    }
  },
  "cells": [
    {
      "cell_type": "code",
      "source": [
        "# Diketahui: x memenuhi x**2+x-1=0\n",
        "# Ditanya: Tentukan nilai n yang memenuhi x**2024-x**2025=(x(1-x))**n\n",
        "# Penyelesaian:\n",
        "# Memanggil numpy\n",
        "import numpy as np\n",
        "# Memanggil cmath\n",
        "import cmath\n",
        "\n",
        "# Koefisien dari persamaan kuadrat x**2+x-1=0\n",
        "a_40 = 1\n",
        "b_40 = 1\n",
        "c_40 = -1\n",
        "\n",
        "# Mencari diskriminan\n",
        "D_40 = (b_40**2 - 4*a_40*c_40)\n",
        "\n",
        "# Menghitung akar-akar persamaan\n",
        "akar1_40 = (-b_40 - cmath.sqrt(D_40)) / (2*a_40) # Menghitung akar1\n",
        "akar2_40 = (-b_40 + cmath.sqrt(D_40)) / (2*a_40) # Menghitung akar2\n",
        "\n",
        "# Sehingga diperoleh, akar-akar persamaan kuadrat x**2+x-1=0\n",
        "akar1_40 = (-1 + np.sqrt(5)) / 2\n",
        "akar2_40 = (-1 - np.sqrt(5)) / 2\n",
        "\n",
        "# Menghitung nilai n\n",
        "def hitung_n_40(x):\n",
        "\n",
        "# Diketahui x**2024-x**2025=(x(1-x))**n\n",
        "  # Sehingga, akan dihitung dulu ruas kirinya (lhs) biasa disebut dengan Left-Hand Side\n",
        "  lhs_40 = 2024 * np.log(np.abs(x)) + np.log(np.abs(1 - x))\n",
        "  # Menghitung ruas kanan (rhs) biasa disebut Right-Hand Side\n",
        "  rhs_40 = np.abs(x * (1 - x))\n",
        "  # Menghitung nilai n yang memenuhi\n",
        "  n_40 = lhs_40 / np.log(np.abs(rhs_40))\n",
        "  return n_40\n",
        "\n",
        "# Input akar yang akan digunakan\n",
        "print(\"Akar persamaan kuadrat x^2 + x - 1 = 0:\")\n",
        "print(\"1. (-1 + np.sqrt(5)) / 2\")\n",
        "print(\"2. (-1 - np.sqrt(5)) / 2\")\n",
        "pilihan_40 = input(\"Pilih 1 atau 2 untuk memilih akar yang akan digunakan: \")\n",
        "\n",
        "# Menentukan nilai n berdasarkan pilihan yang diinput\n",
        "if pilihan_40 == '1':\n",
        "    n_40 = hitung_n_40(akar1_40)\n",
        "    print(f\"Nilai n yang memenuhi untuk akar pertama adalah: {n_40}\")\n",
        "elif pilihan_40 == '2':\n",
        "    n_40 = hitung_n_40(akar2_40)\n",
        "    print(f\"Nilai n yang memenuhi untuk akar kedua adalah: {n_40}\")\n",
        "else:\n",
        "    print(\"Pilihan tidak valid.\")"
      ],
      "metadata": {
        "colab": {
          "base_uri": "https://localhost:8080/"
        },
        "id": "pZyHdugkaftx",
        "outputId": "109fc574-ce56-4393-8ef5-a2c303b25e81"
      },
      "execution_count": 14,
      "outputs": [
        {
          "output_type": "stream",
          "name": "stdout",
          "text": [
            "Akar persamaan kuadrat x^2 + x - 1 = 0:\n",
            "1. (-1 + np.sqrt(5)) / 2\n",
            "2. (-1 - np.sqrt(5)) / 2\n",
            "Pilih 1 atau 2 untuk memilih akar yang akan digunakan: 1\n",
            "Nilai n yang memenuhi untuk akar pertama adalah: 675.3333333333333\n"
          ]
        }
      ]
    },
    {
      "cell_type": "code",
      "source": [
        "# Diketahui: x memenuhi x**2+x-1=0\n",
        "# Ditanya: Tentukan nilai n yang memenuhi x**2024-x**2025=(x(1-x))**n\n",
        "# Penyelesaian:\n",
        "# Memanggil numpy\n",
        "import numpy as np\n",
        "# Memanggil cmath\n",
        "import cmath\n",
        "\n",
        "# Koefisien dari persamaan kuadrat\n",
        "a_40 = 1\n",
        "b_40 = 1\n",
        "c_40 = -1\n",
        "\n",
        "# Mencari diskriminan\n",
        "D_40 = (b_40**2 - 4*a_40*c_40)\n",
        "\n",
        "# Menghitung akar-akar persamaan\n",
        "akar1_40 = (-b_40 - cmath.sqrt(D_40)) / (2*a_40) # Menghitung akar1\n",
        "akar2_40 = (-b_40 + cmath.sqrt(D_40)) / (2*a_40) # Menghitung akar2\n",
        "\n",
        "# Sehingga diperoleh, akar-akar persamaan kuadrat x**2+x-1=0\n",
        "akar1_40 = (-1 + np.sqrt(5)) / 2\n",
        "akar2_40 = (-1 - np.sqrt(5)) / 2\n",
        "\n",
        "# Menghitung nilai n\n",
        "def hitung_n_40(x):\n",
        "\n",
        "# Diketahui x**2024-x**2025=(x(1-x))**n\n",
        "  # Sehingga, akan dihitung dulu ruas kirinya (lhs) biasa disebut dengan Left-Hand Side\n",
        "  lhs_40 = 2024 * np.log(np.abs(x)) + np.log(np.abs(1 - x))\n",
        "  # Menghitung ruas kanan (rhs) yang biasa disebut Right-Hand Side\n",
        "  rhs_40 = np.abs(x * (1 - x))\n",
        "  # Menghitung nilai dari n\n",
        "  n_40 = lhs_40 / np.log(np.abs(rhs_40))\n",
        "  return n_40\n",
        "\n",
        "# Input akar yang akan digunakan\n",
        "print(\"Akar persamaan kuadrat x^2 + x - 1 = 0:\")\n",
        "print(\"1. Akar pertama\")\n",
        "print(\"2. Akar kedua\")\n",
        "pilihan_40 = input(\"Pilih 1 atau 2 untuk memilih akar yang akan digunakan: \")\n",
        "\n",
        "# Menentukan nilai n berdasarkan pilihan yang diinput\n",
        "if pilihan_40 == '1':\n",
        "    n_40 = hitung_n_40(akar1_40)\n",
        "    print(f\"Nilai n yang memenuhi untuk akar pertama adalah: {n_40}\")\n",
        "elif pilihan_40 == '2':\n",
        "    n_40 = hitung_n_40(akar2_40)\n",
        "    print(f\"Nilai n yang memenuhi untuk akar kedua adalah: {n_40}\")\n",
        "else:\n",
        "    print(\"Pilihan tidak valid.\")"
      ],
      "metadata": {
        "colab": {
          "base_uri": "https://localhost:8080/"
        },
        "outputId": "abfb2e41-ca18-4ba1-e8a6-c136d48965e3",
        "id": "aybjVJvSybBJ"
      },
      "execution_count": 13,
      "outputs": [
        {
          "output_type": "stream",
          "name": "stdout",
          "text": [
            "Akar persamaan kuadrat x^2 + x - 1 = 0:\n",
            "1. Akar pertama\n",
            "2. Akar kedua\n",
            "Pilih 1 atau 2 untuk memilih akar yang akan digunakan: 2\n",
            "Nilai n yang memenuhi untuk akar kedua adalah: 675.3333333333335\n"
          ]
        }
      ]
    }
  ]
}
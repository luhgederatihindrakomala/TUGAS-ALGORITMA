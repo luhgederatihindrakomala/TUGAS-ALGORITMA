{
  "nbformat": 4,
  "nbformat_minor": 0,
  "metadata": {
    "colab": {
      "provenance": []
    },
    "kernelspec": {
      "name": "python3",
      "display_name": "Python 3"
    },
    "language_info": {
      "name": "python"
    }
  },
  "cells": [
    {
      "cell_type": "code",
      "execution_count": 1,
      "metadata": {
        "colab": {
          "base_uri": "https://localhost:8080/"
        },
        "id": "PA_RvrnBO-tV",
        "outputId": "1766b999-1c65-4132-922c-85bd8b477940"
      },
      "outputs": [
        {
          "output_type": "stream",
          "name": "stdout",
          "text": [
            "['telkom', 'horti', 'babakan', 'belimbing']\n"
          ]
        }
      ],
      "source": [
        "nama_gang_40 = ['telkom', 'horti', 'babakan', 'belimbing']\n",
        "print(nama_gang_40)"
      ]
    },
    {
      "cell_type": "code",
      "source": [
        "print(nama_gang_40[0])"
      ],
      "metadata": {
        "colab": {
          "base_uri": "https://localhost:8080/"
        },
        "id": "gnlBP3BaQMdL",
        "outputId": "3050c4c5-2fcd-4ea9-8e1f-48aadaeffb08"
      },
      "execution_count": 3,
      "outputs": [
        {
          "output_type": "stream",
          "name": "stdout",
          "text": [
            "telkom\n"
          ]
        }
      ]
    },
    {
      "cell_type": "code",
      "source": [
        "print(nama_gang_40[1])"
      ],
      "metadata": {
        "colab": {
          "base_uri": "https://localhost:8080/"
        },
        "id": "w3cmG68UQcyo",
        "outputId": "f4f22d4a-031e-450d-a658-a73c40c001d4"
      },
      "execution_count": 4,
      "outputs": [
        {
          "output_type": "stream",
          "name": "stdout",
          "text": [
            "horti\n"
          ]
        }
      ]
    },
    {
      "cell_type": "code",
      "source": [
        "print(nama_gang_40[2])"
      ],
      "metadata": {
        "colab": {
          "base_uri": "https://localhost:8080/"
        },
        "id": "dENazm24QfKI",
        "outputId": "d38882dc-9c54-4808-f81f-50685932e6e6"
      },
      "execution_count": 5,
      "outputs": [
        {
          "output_type": "stream",
          "name": "stdout",
          "text": [
            "babakan\n"
          ]
        }
      ]
    },
    {
      "cell_type": "code",
      "source": [
        "print(nama_gang_40[3])"
      ],
      "metadata": {
        "colab": {
          "base_uri": "https://localhost:8080/"
        },
        "id": "XY4DjYvQQhVN",
        "outputId": "b99c73aa-f1ce-4983-efd8-871ce027e289"
      },
      "execution_count": 6,
      "outputs": [
        {
          "output_type": "stream",
          "name": "stdout",
          "text": [
            "belimbing\n"
          ]
        }
      ]
    },
    {
      "cell_type": "code",
      "source": [
        "print(nama_gang_40[-1])"
      ],
      "metadata": {
        "colab": {
          "base_uri": "https://localhost:8080/"
        },
        "id": "BulU0EinQlBF",
        "outputId": "fa8d25c5-58fe-4e0e-bb17-fd59c1d0dbb0"
      },
      "execution_count": 8,
      "outputs": [
        {
          "output_type": "stream",
          "name": "stdout",
          "text": [
            "belimbing\n"
          ]
        }
      ]
    },
    {
      "cell_type": "code",
      "source": [
        "print(nama_gang_40[-2])"
      ],
      "metadata": {
        "colab": {
          "base_uri": "https://localhost:8080/"
        },
        "id": "FD9kjkgOQqc-",
        "outputId": "e0040169-9b42-47d5-dd55-82d8b2146444"
      },
      "execution_count": 9,
      "outputs": [
        {
          "output_type": "stream",
          "name": "stdout",
          "text": [
            "babakan\n"
          ]
        }
      ]
    },
    {
      "cell_type": "code",
      "source": [
        "nama_gang_40[0] = 'merak'\n",
        "print(nama_gang_40)"
      ],
      "metadata": {
        "colab": {
          "base_uri": "https://localhost:8080/"
        },
        "id": "HeDnL6KkQuPq",
        "outputId": "cc89b77a-cdb4-4332-b308-36aa8628944b"
      },
      "execution_count": 10,
      "outputs": [
        {
          "output_type": "stream",
          "name": "stdout",
          "text": [
            "['merak', 'horti', 'babakan', 'belimbing']\n"
          ]
        }
      ]
    },
    {
      "cell_type": "code",
      "source": [
        "print(nama_gang_40[0:1])"
      ],
      "metadata": {
        "colab": {
          "base_uri": "https://localhost:8080/"
        },
        "id": "LMTi42EHQ-Kj",
        "outputId": "62ebf5ba-0323-47a9-b759-830510ae9820"
      },
      "execution_count": 11,
      "outputs": [
        {
          "output_type": "stream",
          "name": "stdout",
          "text": [
            "['merak']\n"
          ]
        }
      ]
    },
    {
      "cell_type": "code",
      "source": [
        "print(nama_gang_40[0:2])"
      ],
      "metadata": {
        "colab": {
          "base_uri": "https://localhost:8080/"
        },
        "id": "kLvs3H6rRDe7",
        "outputId": "0b201a0a-d002-426c-ea40-86bd094fdcf9"
      },
      "execution_count": 12,
      "outputs": [
        {
          "output_type": "stream",
          "name": "stdout",
          "text": [
            "['merak', 'horti']\n"
          ]
        }
      ]
    },
    {
      "cell_type": "code",
      "source": [
        "print(nama_gang_40[0:3])"
      ],
      "metadata": {
        "colab": {
          "base_uri": "https://localhost:8080/"
        },
        "id": "FuqRhcCMRGav",
        "outputId": "d063178f-3412-41af-a983-feaf7c2fdc27"
      },
      "execution_count": 13,
      "outputs": [
        {
          "output_type": "stream",
          "name": "stdout",
          "text": [
            "['merak', 'horti', 'babakan']\n"
          ]
        }
      ]
    },
    {
      "cell_type": "code",
      "source": [
        "print(nama_gang_40[1:1])"
      ],
      "metadata": {
        "colab": {
          "base_uri": "https://localhost:8080/"
        },
        "id": "Bx6Fy2ZSRI4R",
        "outputId": "ac08082c-1d59-43d3-c25a-5e46f3a3c23f"
      },
      "execution_count": 14,
      "outputs": [
        {
          "output_type": "stream",
          "name": "stdout",
          "text": [
            "[]\n"
          ]
        }
      ]
    },
    {
      "cell_type": "code",
      "source": [
        "print(nama_gang_40[1:2])"
      ],
      "metadata": {
        "colab": {
          "base_uri": "https://localhost:8080/"
        },
        "id": "3NNruoKNRLoS",
        "outputId": "2b398548-ede7-4a20-9b28-9ea12609e545"
      },
      "execution_count": 15,
      "outputs": [
        {
          "output_type": "stream",
          "name": "stdout",
          "text": [
            "['horti']\n"
          ]
        }
      ]
    },
    {
      "cell_type": "code",
      "source": [
        "#tidak merubah list\n",
        "print(nama_gang_40)"
      ],
      "metadata": {
        "colab": {
          "base_uri": "https://localhost:8080/"
        },
        "id": "OtkTUZapRPtu",
        "outputId": "ab9a6bea-6952-4c62-84dc-305e553d9704"
      },
      "execution_count": 16,
      "outputs": [
        {
          "output_type": "stream",
          "name": "stdout",
          "text": [
            "['merak', 'horti', 'babakan', 'belimbing']\n"
          ]
        }
      ]
    },
    {
      "cell_type": "code",
      "source": [
        "#merubah list\n",
        "nama_gang_40[0] = 'mengkudu'\n",
        "print(nama_gang_40)"
      ],
      "metadata": {
        "colab": {
          "base_uri": "https://localhost:8080/"
        },
        "id": "nrCUhOfZRXDr",
        "outputId": "b7d240f8-239a-4320-f653-99e0d005c4b5"
      },
      "execution_count": 17,
      "outputs": [
        {
          "output_type": "stream",
          "name": "stdout",
          "text": [
            "['mengkudu', 'horti', 'babakan', 'belimbing']\n"
          ]
        }
      ]
    },
    {
      "cell_type": "code",
      "source": [
        "arah_mata_angin_40 = [\"Utara\", \"Timur\", \"Selatan\", \"Barat\"]\n",
        "print(arah_mata_angin_40)\n"
      ],
      "metadata": {
        "colab": {
          "base_uri": "https://localhost:8080/"
        },
        "id": "nxtH6yFmRpAw",
        "outputId": "af6d63c8-da1b-4b74-d40b-72711fa3104f"
      },
      "execution_count": 18,
      "outputs": [
        {
          "output_type": "stream",
          "name": "stdout",
          "text": [
            "['Utara', 'Timur', 'Selatan', 'Barat']\n"
          ]
        }
      ]
    },
    {
      "cell_type": "code",
      "source": [
        "print(arah_mata_angin_40[3])"
      ],
      "metadata": {
        "colab": {
          "base_uri": "https://localhost:8080/"
        },
        "id": "WKeRrJfLSlk8",
        "outputId": "7f9d3022-e7d0-472f-fbf8-28780308fb3d"
      },
      "execution_count": 20,
      "outputs": [
        {
          "output_type": "stream",
          "name": "stdout",
          "text": [
            "Barat\n"
          ]
        }
      ]
    },
    {
      "cell_type": "code",
      "source": [
        "print(arah_mata_angin_40[2])"
      ],
      "metadata": {
        "colab": {
          "base_uri": "https://localhost:8080/"
        },
        "id": "VDPSbYBGSwzk",
        "outputId": "0ae969ca-b58f-434f-baf5-db6c473d4309"
      },
      "execution_count": 21,
      "outputs": [
        {
          "output_type": "stream",
          "name": "stdout",
          "text": [
            "Selatan\n"
          ]
        }
      ]
    },
    {
      "cell_type": "code",
      "source": [
        "print(arah_mata_angin_40[2])"
      ],
      "metadata": {
        "colab": {
          "base_uri": "https://localhost:8080/"
        },
        "id": "MhqKOmWMSyjd",
        "outputId": "02aa7a65-49d0-4d68-8c03-d49fc76cd42f"
      },
      "execution_count": 22,
      "outputs": [
        {
          "output_type": "stream",
          "name": "stdout",
          "text": [
            "Selatan\n"
          ]
        }
      ]
    },
    {
      "cell_type": "code",
      "source": [
        "print(arah_mata_angin_40[1])"
      ],
      "metadata": {
        "colab": {
          "base_uri": "https://localhost:8080/"
        },
        "id": "-Dy_uLYwS097",
        "outputId": "05522352-ae9a-4efe-c273-f148f34bdd06"
      },
      "execution_count": 23,
      "outputs": [
        {
          "output_type": "stream",
          "name": "stdout",
          "text": [
            "Timur\n"
          ]
        }
      ]
    },
    {
      "cell_type": "code",
      "source": [
        "print(arah_mata_angin_40[0])"
      ],
      "metadata": {
        "colab": {
          "base_uri": "https://localhost:8080/"
        },
        "id": "YWhh-Pb6S3Ow",
        "outputId": "6be84f6e-8a21-4b2d-9451-24252cee098c"
      },
      "execution_count": 24,
      "outputs": [
        {
          "output_type": "stream",
          "name": "stdout",
          "text": [
            "Utara\n"
          ]
        }
      ]
    },
    {
      "cell_type": "code",
      "source": [
        "print(arah_mata_angin_40[-2])"
      ],
      "metadata": {
        "colab": {
          "base_uri": "https://localhost:8080/"
        },
        "id": "7horYBqXS5L1",
        "outputId": "838cd87b-b33e-425f-a592-e59028bdaf48"
      },
      "execution_count": 25,
      "outputs": [
        {
          "output_type": "stream",
          "name": "stdout",
          "text": [
            "Selatan\n"
          ]
        }
      ]
    },
    {
      "cell_type": "code",
      "source": [
        "print(arah_mata_angin_40[-1])"
      ],
      "metadata": {
        "colab": {
          "base_uri": "https://localhost:8080/"
        },
        "id": "oMAqfetKS8Eo",
        "outputId": "138ec243-1b66-4b6c-a8ed-305c55f07047"
      },
      "execution_count": 26,
      "outputs": [
        {
          "output_type": "stream",
          "name": "stdout",
          "text": [
            "Barat\n"
          ]
        }
      ]
    },
    {
      "cell_type": "code",
      "source": [
        "arah_mata_angin_40[0] = \"Timur Laut\"\n",
        "print(arah_mata_angin_40)"
      ],
      "metadata": {
        "colab": {
          "base_uri": "https://localhost:8080/"
        },
        "id": "X908YSkHS7P9",
        "outputId": "dd6ae52e-d388-4f51-f5d7-3d1db5ccf62d"
      },
      "execution_count": 27,
      "outputs": [
        {
          "output_type": "stream",
          "name": "stdout",
          "text": [
            "['Timur Laut', 'Timur', 'Selatan', 'Barat']\n"
          ]
        }
      ]
    },
    {
      "cell_type": "code",
      "source": [
        "print(arah_mata_angin_40[0:1])"
      ],
      "metadata": {
        "colab": {
          "base_uri": "https://localhost:8080/"
        },
        "id": "SYUAJimSS--B",
        "outputId": "ae37bad7-9fe9-41b1-dffa-de6afcf0ce65"
      },
      "execution_count": 29,
      "outputs": [
        {
          "output_type": "stream",
          "name": "stdout",
          "text": [
            "['Timur Laut']\n"
          ]
        }
      ]
    },
    {
      "cell_type": "code",
      "source": [
        "print(arah_mata_angin_40[0:2])"
      ],
      "metadata": {
        "colab": {
          "base_uri": "https://localhost:8080/"
        },
        "id": "79D4fjEtTPdZ",
        "outputId": "3822c3d6-3551-45f8-a20f-c6d920a48da8"
      },
      "execution_count": 30,
      "outputs": [
        {
          "output_type": "stream",
          "name": "stdout",
          "text": [
            "['Timur Laut', 'Timur']\n"
          ]
        }
      ]
    },
    {
      "cell_type": "code",
      "source": [
        "print(arah_mata_angin_40[1:3])"
      ],
      "metadata": {
        "colab": {
          "base_uri": "https://localhost:8080/"
        },
        "id": "Eo1dbrpCTUg-",
        "outputId": "12171d72-057b-46e5-ed6a-80b994d33b94"
      },
      "execution_count": 31,
      "outputs": [
        {
          "output_type": "stream",
          "name": "stdout",
          "text": [
            "['Timur', 'Selatan']\n"
          ]
        }
      ]
    },
    {
      "cell_type": "code",
      "source": [
        "#tidak merubah list\n",
        "print(arah_mata_angin_40)"
      ],
      "metadata": {
        "colab": {
          "base_uri": "https://localhost:8080/"
        },
        "id": "n7S_Ps12TW3m",
        "outputId": "d0606128-2c55-4822-eeea-006978d56dc9"
      },
      "execution_count": 32,
      "outputs": [
        {
          "output_type": "stream",
          "name": "stdout",
          "text": [
            "['Timur Laut', 'Timur', 'Selatan', 'Barat']\n"
          ]
        }
      ]
    },
    {
      "cell_type": "code",
      "source": [
        "makanan_40 = ['seblak', 'mikuah', 'soto']\n",
        "makanan_40.append('bubur')\n",
        "print(makanan_40)"
      ],
      "metadata": {
        "colab": {
          "base_uri": "https://localhost:8080/"
        },
        "id": "HJr39yJqTfcP",
        "outputId": "f2747218-301f-40ae-b491-e18aec812ecd"
      },
      "execution_count": 33,
      "outputs": [
        {
          "output_type": "stream",
          "name": "stdout",
          "text": [
            "['seblak', 'mikuah', 'soto', 'bubur']\n"
          ]
        }
      ]
    },
    {
      "cell_type": "code",
      "source": [
        "print('bakso' in makanan_40)"
      ],
      "metadata": {
        "colab": {
          "base_uri": "https://localhost:8080/"
        },
        "id": "pIK9NzseVW_r",
        "outputId": "bbbe6701-f977-4b75-d5a6-222100438972"
      },
      "execution_count": 46,
      "outputs": [
        {
          "output_type": "stream",
          "name": "stdout",
          "text": [
            "False\n"
          ]
        }
      ]
    },
    {
      "cell_type": "code",
      "source": [
        "skincare_40 = ['facial wash', 'toner', 'serum', 'moisturizer', 'sunscreen']\n",
        "skincare_40.append('sleeping mask')\n",
        "print(skincare_40)"
      ],
      "metadata": {
        "colab": {
          "base_uri": "https://localhost:8080/"
        },
        "id": "mwf7wYVSVjHS",
        "outputId": "a0b1c4ef-e99b-4598-f389-76d751c01fe7"
      },
      "execution_count": 47,
      "outputs": [
        {
          "output_type": "stream",
          "name": "stdout",
          "text": [
            "['facial wash', 'toner', 'serum', 'moisturizer', 'sunscreen', 'sleeping mask']\n"
          ]
        }
      ]
    },
    {
      "cell_type": "code",
      "source": [
        "skincare_40.insert(0,'eyecream')\n",
        "print(skincare_40)"
      ],
      "metadata": {
        "colab": {
          "base_uri": "https://localhost:8080/"
        },
        "id": "gNVWtqdzYDgV",
        "outputId": "536de19d-168f-46bf-b7f7-cbfde0ae597f"
      },
      "execution_count": 48,
      "outputs": [
        {
          "output_type": "stream",
          "name": "stdout",
          "text": [
            "['eyecream', 'facial wash', 'toner', 'serum', 'moisturizer', 'sunscreen', 'sleeping mask']\n"
          ]
        }
      ]
    },
    {
      "cell_type": "code",
      "source": [
        "skincare_40.remove('toner')\n",
        "print(skincare_40)"
      ],
      "metadata": {
        "colab": {
          "base_uri": "https://localhost:8080/"
        },
        "id": "eAWp0ughYfDW",
        "outputId": "9a90ec1c-d11b-4a0c-ba0e-265895252735"
      },
      "execution_count": 49,
      "outputs": [
        {
          "output_type": "stream",
          "name": "stdout",
          "text": [
            "['eyecream', 'facial wash', 'serum', 'moisturizer', 'sunscreen', 'sleeping mask']\n"
          ]
        }
      ]
    },
    {
      "cell_type": "code",
      "source": [
        "print('serum' in skincare_40)"
      ],
      "metadata": {
        "colab": {
          "base_uri": "https://localhost:8080/"
        },
        "id": "_EhgdHYfYlg8",
        "outputId": "955ef1b7-0a77-48ad-9aff-b6f7ec74040c"
      },
      "execution_count": 50,
      "outputs": [
        {
          "output_type": "stream",
          "name": "stdout",
          "text": [
            "True\n"
          ]
        }
      ]
    },
    {
      "cell_type": "code",
      "source": [
        "print('toner' in skincare_40)"
      ],
      "metadata": {
        "colab": {
          "base_uri": "https://localhost:8080/"
        },
        "id": "mDa92VfwYrPR",
        "outputId": "07dd1e90-cfca-4906-d0c9-5faada9ce266"
      },
      "execution_count": 51,
      "outputs": [
        {
          "output_type": "stream",
          "name": "stdout",
          "text": [
            "False\n"
          ]
        }
      ]
    },
    {
      "cell_type": "code",
      "source": [
        "print(len(skincare_40))"
      ],
      "metadata": {
        "colab": {
          "base_uri": "https://localhost:8080/"
        },
        "id": "_8UAGeEGYwrX",
        "outputId": "62dd8651-1702-4db3-8b2f-c139870b1e3f"
      },
      "execution_count": 52,
      "outputs": [
        {
          "output_type": "stream",
          "name": "stdout",
          "text": [
            "6\n"
          ]
        }
      ]
    },
    {
      "cell_type": "code",
      "source": [
        "nama_danau_40 = ['batur', 'tamblingan', 'buyan', 'beratan', 'toba', 'poso', 'singkarak']\n",
        "for jenis in nama_danau_40:\n",
        "  print(jenis)"
      ],
      "metadata": {
        "colab": {
          "base_uri": "https://localhost:8080/"
        },
        "id": "vK4IcnMbY3oV",
        "outputId": "c5c5ec48-ca9c-4e2e-db2c-42b98f2d31c0"
      },
      "execution_count": 56,
      "outputs": [
        {
          "output_type": "stream",
          "name": "stdout",
          "text": [
            "batur\n",
            "tamblingan\n",
            "buyan\n",
            "beratan\n",
            "toba\n",
            "poso\n",
            "singkarak\n"
          ]
        }
      ]
    },
    {
      "cell_type": "code",
      "source": [
        "i = 0\n",
        "while i < len(nama_danau_40):\n",
        "  print(nama_danau_40[i])\n",
        "  i+=1"
      ],
      "metadata": {
        "colab": {
          "base_uri": "https://localhost:8080/"
        },
        "id": "8KzMvu7SaZID",
        "outputId": "b0c79d37-8031-452f-a6f8-15aac427511c"
      },
      "execution_count": 60,
      "outputs": [
        {
          "output_type": "stream",
          "name": "stdout",
          "text": [
            "batur\n",
            "tamblingan\n",
            "buyan\n",
            "beratan\n",
            "toba\n",
            "poso\n",
            "singkarak\n"
          ]
        }
      ]
    },
    {
      "cell_type": "code",
      "source": [
        "i = 0\n",
        "while i < len(nama_danau_40):\n",
        "  print(nama_danau_40[i])\n",
        "  i+=2"
      ],
      "metadata": {
        "colab": {
          "base_uri": "https://localhost:8080/"
        },
        "id": "ezHSFWfWa5su",
        "outputId": "bce5a01f-a460-4d81-b817-c4d3a46f6bf7"
      },
      "execution_count": 61,
      "outputs": [
        {
          "output_type": "stream",
          "name": "stdout",
          "text": [
            "batur\n",
            "buyan\n",
            "toba\n",
            "singkarak\n"
          ]
        }
      ]
    },
    {
      "cell_type": "code",
      "source": [
        "penyanyi_40 = ['Mahalini', 'Arsy Widianto', 'Bunga Citra Lestari', 'Afgan', 'Tulus', 'Lyodra', 'Rizky Febian', 'Salma', 'Vierra', 'Raisa', 'Andmesh Kamaleng']\n",
        "for jenis in penyanyi_40:\n",
        "  print(jenis)"
      ],
      "metadata": {
        "colab": {
          "base_uri": "https://localhost:8080/"
        },
        "id": "WtN_oNLXbkmN",
        "outputId": "a02ac363-507b-4e30-c93d-c80cefe7a09b"
      },
      "execution_count": 71,
      "outputs": [
        {
          "output_type": "stream",
          "name": "stdout",
          "text": [
            "Mahalini\n",
            "Arsy Widianto\n",
            "Bunga Citra Lestari\n",
            "Afgan\n",
            "Tulus\n",
            "Lyodra\n",
            "Rizky Febian\n",
            "Salma\n",
            "Vierra\n",
            "Raisa\n",
            "Andmesh Kamaleng\n"
          ]
        }
      ]
    },
    {
      "cell_type": "code",
      "source": [
        "i = 0\n",
        "while i < len(penyanyi_40):\n",
        "  print(penyanyi_40[i])\n",
        "  i+=5"
      ],
      "metadata": {
        "colab": {
          "base_uri": "https://localhost:8080/"
        },
        "id": "BOGemSxWcdMU",
        "outputId": "b0c531ad-3349-43c7-cf8a-b241aad3bf96"
      },
      "execution_count": 73,
      "outputs": [
        {
          "output_type": "stream",
          "name": "stdout",
          "text": [
            "Mahalini\n",
            "Lyodra\n",
            "Andmesh Kamaleng\n"
          ]
        }
      ]
    }
  ]
}
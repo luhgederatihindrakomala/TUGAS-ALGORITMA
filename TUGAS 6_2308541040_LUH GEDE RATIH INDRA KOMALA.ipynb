{
  "nbformat": 4,
  "nbformat_minor": 0,
  "metadata": {
    "colab": {
      "provenance": []
    },
    "kernelspec": {
      "name": "python3",
      "display_name": "Python 3"
    },
    "language_info": {
      "name": "python"
    }
  },
  "cells": [
    {
      "cell_type": "code",
      "execution_count": 147,
      "metadata": {
        "colab": {
          "base_uri": "https://localhost:8080/"
        },
        "id": "vkiqhXV6Bxpj",
        "outputId": "c571fe86-9b8f-4e92-a6ac-b3353c6237b9"
      },
      "outputs": [
        {
          "output_type": "stream",
          "name": "stdout",
          "text": [
            "[-5 -4 -3 -2 -1  0]\n"
          ]
        }
      ],
      "source": [
        "import numpy as np\n",
        "r_40 = np.array([-5,-4,-3,-2,-1,0])\n",
        "print(r_40)"
      ]
    },
    {
      "cell_type": "code",
      "source": [
        "a_40 = np.array([[1,2,3,4,5,6],[7,8,9,10,11,12]])\n",
        "print(a_40)"
      ],
      "metadata": {
        "colab": {
          "base_uri": "https://localhost:8080/"
        },
        "id": "1xxdavLtCnX-",
        "outputId": "963037eb-e47b-4fed-fa0c-0e56e32b4d3a"
      },
      "execution_count": 148,
      "outputs": [
        {
          "output_type": "stream",
          "name": "stdout",
          "text": [
            "[[ 1  2  3  4  5  6]\n",
            " [ 7  8  9 10 11 12]]\n"
          ]
        }
      ]
    },
    {
      "cell_type": "code",
      "source": [
        "t_40 = np.array([[[0,1,2,3,4,5],[4,5,6,7,8,9]],[[8,9,8,7,6,5],[6,5,4,3,2,1]],[[1,2,3,4,5,6],[-5,-4,-3,-2,-1,0]]])\n",
        "print(t_40)"
      ],
      "metadata": {
        "colab": {
          "base_uri": "https://localhost:8080/"
        },
        "id": "qIAYK90LDrR1",
        "outputId": "cd239f62-ac19-457e-ea19-762ab8e9af30"
      },
      "execution_count": 149,
      "outputs": [
        {
          "output_type": "stream",
          "name": "stdout",
          "text": [
            "[[[ 0  1  2  3  4  5]\n",
            "  [ 4  5  6  7  8  9]]\n",
            "\n",
            " [[ 8  9  8  7  6  5]\n",
            "  [ 6  5  4  3  2  1]]\n",
            "\n",
            " [[ 1  2  3  4  5  6]\n",
            "  [-5 -4 -3 -2 -1  0]]]\n"
          ]
        }
      ]
    },
    {
      "cell_type": "code",
      "source": [
        "r_40.ndim"
      ],
      "metadata": {
        "colab": {
          "base_uri": "https://localhost:8080/"
        },
        "id": "3qfUYQStFVfD",
        "outputId": "2115e4ae-f169-43f2-8728-a41674d35077"
      },
      "execution_count": 150,
      "outputs": [
        {
          "output_type": "execute_result",
          "data": {
            "text/plain": [
              "1"
            ]
          },
          "metadata": {},
          "execution_count": 150
        }
      ]
    },
    {
      "cell_type": "code",
      "source": [
        "a_40.ndim"
      ],
      "metadata": {
        "colab": {
          "base_uri": "https://localhost:8080/"
        },
        "id": "WCXegovxHn9-",
        "outputId": "4e6c98ad-df6b-43a1-d1d9-e46bb8a39ef3"
      },
      "execution_count": 151,
      "outputs": [
        {
          "output_type": "execute_result",
          "data": {
            "text/plain": [
              "2"
            ]
          },
          "metadata": {},
          "execution_count": 151
        }
      ]
    },
    {
      "cell_type": "code",
      "source": [
        "t_40.ndim"
      ],
      "metadata": {
        "colab": {
          "base_uri": "https://localhost:8080/"
        },
        "id": "7FLP9WJCHp4V",
        "outputId": "19d4623c-56e7-4e8c-a0a0-6be833e3f8cb"
      },
      "execution_count": 152,
      "outputs": [
        {
          "output_type": "execute_result",
          "data": {
            "text/plain": [
              "3"
            ]
          },
          "metadata": {},
          "execution_count": 152
        }
      ]
    },
    {
      "cell_type": "code",
      "source": [
        "r_40.shape"
      ],
      "metadata": {
        "colab": {
          "base_uri": "https://localhost:8080/"
        },
        "id": "YuRE4GuFHrYu",
        "outputId": "c87b218a-17dd-49fe-e01e-0b5c79bb54ca"
      },
      "execution_count": 153,
      "outputs": [
        {
          "output_type": "execute_result",
          "data": {
            "text/plain": [
              "(6,)"
            ]
          },
          "metadata": {},
          "execution_count": 153
        }
      ]
    },
    {
      "cell_type": "code",
      "source": [
        "a_40.shape"
      ],
      "metadata": {
        "colab": {
          "base_uri": "https://localhost:8080/"
        },
        "id": "mGuHrZrqHuFy",
        "outputId": "1694f2fc-56e6-40e9-89cb-e2fc054e164b"
      },
      "execution_count": 154,
      "outputs": [
        {
          "output_type": "execute_result",
          "data": {
            "text/plain": [
              "(2, 6)"
            ]
          },
          "metadata": {},
          "execution_count": 154
        }
      ]
    },
    {
      "cell_type": "code",
      "source": [
        "t_40.shape"
      ],
      "metadata": {
        "colab": {
          "base_uri": "https://localhost:8080/"
        },
        "id": "9cX_UrpWHw7V",
        "outputId": "ea4c4dab-3145-432c-8e20-e64c8812a1f9"
      },
      "execution_count": 155,
      "outputs": [
        {
          "output_type": "execute_result",
          "data": {
            "text/plain": [
              "(3, 2, 6)"
            ]
          },
          "metadata": {},
          "execution_count": 155
        }
      ]
    },
    {
      "cell_type": "code",
      "source": [
        "i_40 = np.array([[4,5,6,7,8],[9,10,11,12,13],[14,15,16,17,18]])\n",
        "print(i_40)"
      ],
      "metadata": {
        "colab": {
          "base_uri": "https://localhost:8080/"
        },
        "id": "BwJjPUv-H0OJ",
        "outputId": "16462c78-2349-41a5-97c8-dc993c5a9053"
      },
      "execution_count": 156,
      "outputs": [
        {
          "output_type": "stream",
          "name": "stdout",
          "text": [
            "[[ 4  5  6  7  8]\n",
            " [ 9 10 11 12 13]\n",
            " [14 15 16 17 18]]\n"
          ]
        }
      ]
    },
    {
      "cell_type": "code",
      "source": [
        "i_40[0,1]"
      ],
      "metadata": {
        "colab": {
          "base_uri": "https://localhost:8080/"
        },
        "id": "9Y5t051gKMv6",
        "outputId": "dc6588b2-049a-4d7d-fceb-a21c1528f7b2"
      },
      "execution_count": 161,
      "outputs": [
        {
          "output_type": "execute_result",
          "data": {
            "text/plain": [
              "5"
            ]
          },
          "metadata": {},
          "execution_count": 161
        }
      ]
    },
    {
      "cell_type": "code",
      "source": [
        "i_40[0,2]"
      ],
      "metadata": {
        "colab": {
          "base_uri": "https://localhost:8080/"
        },
        "id": "rfGV1qXIKUMY",
        "outputId": "62d3f720-22c4-4794-b57f-0eee4c5916d8"
      },
      "execution_count": 162,
      "outputs": [
        {
          "output_type": "execute_result",
          "data": {
            "text/plain": [
              "6"
            ]
          },
          "metadata": {},
          "execution_count": 162
        }
      ]
    },
    {
      "cell_type": "code",
      "source": [
        "i_40[0,0]"
      ],
      "metadata": {
        "colab": {
          "base_uri": "https://localhost:8080/"
        },
        "id": "-lunHuxAKjHy",
        "outputId": "7bbcdbdd-de2f-438c-c6df-20816d233600"
      },
      "execution_count": 163,
      "outputs": [
        {
          "output_type": "execute_result",
          "data": {
            "text/plain": [
              "4"
            ]
          },
          "metadata": {},
          "execution_count": 163
        }
      ]
    },
    {
      "cell_type": "code",
      "source": [
        "i_40[1,2]"
      ],
      "metadata": {
        "colab": {
          "base_uri": "https://localhost:8080/"
        },
        "id": "VDrAAcdaKofF",
        "outputId": "c69bcc54-16a1-45f4-f11f-911edd95ddd0"
      },
      "execution_count": 164,
      "outputs": [
        {
          "output_type": "execute_result",
          "data": {
            "text/plain": [
              "11"
            ]
          },
          "metadata": {},
          "execution_count": 164
        }
      ]
    },
    {
      "cell_type": "code",
      "source": [
        "i_40[1,3]"
      ],
      "metadata": {
        "colab": {
          "base_uri": "https://localhost:8080/"
        },
        "id": "MoWpKWgHLAHL",
        "outputId": "fb03a437-cd17-4284-fc51-fef9e6dc8d7a"
      },
      "execution_count": 165,
      "outputs": [
        {
          "output_type": "execute_result",
          "data": {
            "text/plain": [
              "12"
            ]
          },
          "metadata": {},
          "execution_count": 165
        }
      ]
    },
    {
      "cell_type": "code",
      "source": [
        "i_40[1,4]"
      ],
      "metadata": {
        "colab": {
          "base_uri": "https://localhost:8080/"
        },
        "id": "YJYUIVv6LCR6",
        "outputId": "a7f882e9-18d6-4644-815b-3ebe047e6b59"
      },
      "execution_count": 166,
      "outputs": [
        {
          "output_type": "execute_result",
          "data": {
            "text/plain": [
              "13"
            ]
          },
          "metadata": {},
          "execution_count": 166
        }
      ]
    },
    {
      "cell_type": "code",
      "source": [
        "i_40[2,2]"
      ],
      "metadata": {
        "colab": {
          "base_uri": "https://localhost:8080/"
        },
        "id": "NQS-DdiaLMIf",
        "outputId": "457d7d89-6eac-4a06-e174-3afa1ee93f72"
      },
      "execution_count": 167,
      "outputs": [
        {
          "output_type": "execute_result",
          "data": {
            "text/plain": [
              "16"
            ]
          },
          "metadata": {},
          "execution_count": 167
        }
      ]
    },
    {
      "cell_type": "code",
      "source": [
        "i_40[2,3]"
      ],
      "metadata": {
        "colab": {
          "base_uri": "https://localhost:8080/"
        },
        "id": "mj5-wrLnLRha",
        "outputId": "33f168c5-0c12-4c31-c8ad-240bf381931d"
      },
      "execution_count": 168,
      "outputs": [
        {
          "output_type": "execute_result",
          "data": {
            "text/plain": [
              "17"
            ]
          },
          "metadata": {},
          "execution_count": 168
        }
      ]
    },
    {
      "cell_type": "code",
      "source": [
        "i_40[2,1]"
      ],
      "metadata": {
        "colab": {
          "base_uri": "https://localhost:8080/"
        },
        "id": "AuyDq-XbLVMX",
        "outputId": "80a8b253-82a2-47ef-a966-a9e5b17962b1"
      },
      "execution_count": 169,
      "outputs": [
        {
          "output_type": "execute_result",
          "data": {
            "text/plain": [
              "15"
            ]
          },
          "metadata": {},
          "execution_count": 169
        }
      ]
    },
    {
      "cell_type": "code",
      "source": [
        "i_40[1,:]"
      ],
      "metadata": {
        "colab": {
          "base_uri": "https://localhost:8080/"
        },
        "id": "xN9VYawPLYu8",
        "outputId": "6c024d4d-6e45-45c8-8d9f-d07bdcd34d9d"
      },
      "execution_count": 170,
      "outputs": [
        {
          "output_type": "execute_result",
          "data": {
            "text/plain": [
              "array([ 9, 10, 11, 12, 13])"
            ]
          },
          "metadata": {},
          "execution_count": 170
        }
      ]
    },
    {
      "cell_type": "code",
      "source": [
        "i_40[0,:]"
      ],
      "metadata": {
        "colab": {
          "base_uri": "https://localhost:8080/"
        },
        "id": "g7YLX64pMe4y",
        "outputId": "6d0495b7-d7a6-480c-8c8d-543d2138c254"
      },
      "execution_count": 171,
      "outputs": [
        {
          "output_type": "execute_result",
          "data": {
            "text/plain": [
              "array([4, 5, 6, 7, 8])"
            ]
          },
          "metadata": {},
          "execution_count": 171
        }
      ]
    },
    {
      "cell_type": "code",
      "source": [
        "i_40[2,:]"
      ],
      "metadata": {
        "colab": {
          "base_uri": "https://localhost:8080/"
        },
        "id": "gBiNZdeFMik_",
        "outputId": "d7b03e32-7aa0-43eb-931d-abf2b26909a5"
      },
      "execution_count": 172,
      "outputs": [
        {
          "output_type": "execute_result",
          "data": {
            "text/plain": [
              "array([14, 15, 16, 17, 18])"
            ]
          },
          "metadata": {},
          "execution_count": 172
        }
      ]
    },
    {
      "cell_type": "code",
      "source": [
        "i_40[:,0]"
      ],
      "metadata": {
        "colab": {
          "base_uri": "https://localhost:8080/"
        },
        "id": "i9FbAclhMliD",
        "outputId": "9e4e28e5-c5d5-4014-ce9e-169cc236a514"
      },
      "execution_count": 173,
      "outputs": [
        {
          "output_type": "execute_result",
          "data": {
            "text/plain": [
              "array([ 4,  9, 14])"
            ]
          },
          "metadata": {},
          "execution_count": 173
        }
      ]
    },
    {
      "cell_type": "code",
      "source": [
        "i_40[:,1]"
      ],
      "metadata": {
        "colab": {
          "base_uri": "https://localhost:8080/"
        },
        "id": "ZUo6c0mVMqWI",
        "outputId": "f9073b64-d482-4325-be83-d7ee50a20835"
      },
      "execution_count": 174,
      "outputs": [
        {
          "output_type": "execute_result",
          "data": {
            "text/plain": [
              "array([ 5, 10, 15])"
            ]
          },
          "metadata": {},
          "execution_count": 174
        }
      ]
    },
    {
      "cell_type": "code",
      "source": [
        "i_40[:,2]"
      ],
      "metadata": {
        "colab": {
          "base_uri": "https://localhost:8080/"
        },
        "id": "ZBVQ3sTFMs21",
        "outputId": "548b3e06-6945-4c8b-b3ac-7600c6a27e96"
      },
      "execution_count": 175,
      "outputs": [
        {
          "output_type": "execute_result",
          "data": {
            "text/plain": [
              "array([ 6, 11, 16])"
            ]
          },
          "metadata": {},
          "execution_count": 175
        }
      ]
    },
    {
      "cell_type": "code",
      "source": [
        "i_40[0,1:2]"
      ],
      "metadata": {
        "colab": {
          "base_uri": "https://localhost:8080/"
        },
        "id": "IV9K0lF4MvBO",
        "outputId": "b301b57e-c5fd-4b01-fe23-4941a8dff32f"
      },
      "execution_count": 176,
      "outputs": [
        {
          "output_type": "execute_result",
          "data": {
            "text/plain": [
              "array([5])"
            ]
          },
          "metadata": {},
          "execution_count": 176
        }
      ]
    },
    {
      "cell_type": "code",
      "source": [
        "i_40[0,1:3]"
      ],
      "metadata": {
        "colab": {
          "base_uri": "https://localhost:8080/"
        },
        "id": "U6mSFO7LMz8Q",
        "outputId": "0447dffd-fe44-49f6-a56b-2403a17de6b5"
      },
      "execution_count": 177,
      "outputs": [
        {
          "output_type": "execute_result",
          "data": {
            "text/plain": [
              "array([5, 6])"
            ]
          },
          "metadata": {},
          "execution_count": 177
        }
      ]
    },
    {
      "cell_type": "code",
      "source": [
        "i_40[1,2:4]"
      ],
      "metadata": {
        "colab": {
          "base_uri": "https://localhost:8080/"
        },
        "id": "B5vw-qCDM4m4",
        "outputId": "bc9e80b6-a5c5-46b7-9dd2-916a2d24611a"
      },
      "execution_count": 178,
      "outputs": [
        {
          "output_type": "execute_result",
          "data": {
            "text/plain": [
              "array([11, 12])"
            ]
          },
          "metadata": {},
          "execution_count": 178
        }
      ]
    },
    {
      "cell_type": "code",
      "source": [
        "i_40[2,1:3]"
      ],
      "metadata": {
        "colab": {
          "base_uri": "https://localhost:8080/"
        },
        "id": "MxUmZx6rM7US",
        "outputId": "86bca35b-c98a-478d-acc4-2421cf8f4ea6"
      },
      "execution_count": 179,
      "outputs": [
        {
          "output_type": "execute_result",
          "data": {
            "text/plain": [
              "array([15, 16])"
            ]
          },
          "metadata": {},
          "execution_count": 179
        }
      ]
    },
    {
      "cell_type": "code",
      "source": [
        "i_40[0,0:1:2]"
      ],
      "metadata": {
        "colab": {
          "base_uri": "https://localhost:8080/"
        },
        "id": "Vt3m5iToM-Vc",
        "outputId": "225cadd4-7c56-4256-d47d-9fa560fe5960"
      },
      "execution_count": 180,
      "outputs": [
        {
          "output_type": "execute_result",
          "data": {
            "text/plain": [
              "array([4])"
            ]
          },
          "metadata": {},
          "execution_count": 180
        }
      ]
    },
    {
      "cell_type": "code",
      "source": [
        "i_40[0,0:5:4]"
      ],
      "metadata": {
        "colab": {
          "base_uri": "https://localhost:8080/"
        },
        "id": "b_ZM6VqoNEap",
        "outputId": "8b0a0a73-218b-4f47-ea5d-4648e4861ad9"
      },
      "execution_count": 181,
      "outputs": [
        {
          "output_type": "execute_result",
          "data": {
            "text/plain": [
              "array([4, 8])"
            ]
          },
          "metadata": {},
          "execution_count": 181
        }
      ]
    },
    {
      "cell_type": "code",
      "source": [
        "i_40[1,2] = 27\n",
        "print(i_40)"
      ],
      "metadata": {
        "colab": {
          "base_uri": "https://localhost:8080/"
        },
        "id": "AANytrHJNHLL",
        "outputId": "4f94cf0f-08b7-47e6-eeed-3e007fadf689"
      },
      "execution_count": 182,
      "outputs": [
        {
          "output_type": "stream",
          "name": "stdout",
          "text": [
            "[[ 4  5  6  7  8]\n",
            " [ 9 10 27 12 13]\n",
            " [14 15 16 17 18]]\n"
          ]
        }
      ]
    },
    {
      "cell_type": "code",
      "source": [
        "k_40 = np.ones((10,10))\n",
        "print(k_40)"
      ],
      "metadata": {
        "colab": {
          "base_uri": "https://localhost:8080/"
        },
        "id": "0TKyUnVENNR4",
        "outputId": "dfbfc4c0-83a6-4c76-c657-f9494e13651e"
      },
      "execution_count": 183,
      "outputs": [
        {
          "output_type": "stream",
          "name": "stdout",
          "text": [
            "[[1. 1. 1. 1. 1. 1. 1. 1. 1. 1.]\n",
            " [1. 1. 1. 1. 1. 1. 1. 1. 1. 1.]\n",
            " [1. 1. 1. 1. 1. 1. 1. 1. 1. 1.]\n",
            " [1. 1. 1. 1. 1. 1. 1. 1. 1. 1.]\n",
            " [1. 1. 1. 1. 1. 1. 1. 1. 1. 1.]\n",
            " [1. 1. 1. 1. 1. 1. 1. 1. 1. 1.]\n",
            " [1. 1. 1. 1. 1. 1. 1. 1. 1. 1.]\n",
            " [1. 1. 1. 1. 1. 1. 1. 1. 1. 1.]\n",
            " [1. 1. 1. 1. 1. 1. 1. 1. 1. 1.]\n",
            " [1. 1. 1. 1. 1. 1. 1. 1. 1. 1.]]\n"
          ]
        }
      ]
    },
    {
      "cell_type": "code",
      "source": [
        "l_40 = np.identity(10)\n",
        "print(l_40)\n"
      ],
      "metadata": {
        "colab": {
          "base_uri": "https://localhost:8080/"
        },
        "id": "CPEkoKguNoEW",
        "outputId": "bb131e63-495e-4a3a-9d52-430d2f4777cb"
      },
      "execution_count": 184,
      "outputs": [
        {
          "output_type": "stream",
          "name": "stdout",
          "text": [
            "[[1. 0. 0. 0. 0. 0. 0. 0. 0. 0.]\n",
            " [0. 1. 0. 0. 0. 0. 0. 0. 0. 0.]\n",
            " [0. 0. 1. 0. 0. 0. 0. 0. 0. 0.]\n",
            " [0. 0. 0. 1. 0. 0. 0. 0. 0. 0.]\n",
            " [0. 0. 0. 0. 1. 0. 0. 0. 0. 0.]\n",
            " [0. 0. 0. 0. 0. 1. 0. 0. 0. 0.]\n",
            " [0. 0. 0. 0. 0. 0. 1. 0. 0. 0.]\n",
            " [0. 0. 0. 0. 0. 0. 0. 1. 0. 0.]\n",
            " [0. 0. 0. 0. 0. 0. 0. 0. 1. 0.]\n",
            " [0. 0. 0. 0. 0. 0. 0. 0. 0. 1.]]\n"
          ]
        }
      ]
    },
    {
      "cell_type": "code",
      "source": [
        "m_40 = 5*l_40\n",
        "print(m_40)"
      ],
      "metadata": {
        "colab": {
          "base_uri": "https://localhost:8080/"
        },
        "id": "VVKWRXOQOIxR",
        "outputId": "c8a6ed10-a1b7-4197-ef5c-cf0bd800c3aa"
      },
      "execution_count": 185,
      "outputs": [
        {
          "output_type": "stream",
          "name": "stdout",
          "text": [
            "[[5. 0. 0. 0. 0. 0. 0. 0. 0. 0.]\n",
            " [0. 5. 0. 0. 0. 0. 0. 0. 0. 0.]\n",
            " [0. 0. 5. 0. 0. 0. 0. 0. 0. 0.]\n",
            " [0. 0. 0. 5. 0. 0. 0. 0. 0. 0.]\n",
            " [0. 0. 0. 0. 5. 0. 0. 0. 0. 0.]\n",
            " [0. 0. 0. 0. 0. 5. 0. 0. 0. 0.]\n",
            " [0. 0. 0. 0. 0. 0. 5. 0. 0. 0.]\n",
            " [0. 0. 0. 0. 0. 0. 0. 5. 0. 0.]\n",
            " [0. 0. 0. 0. 0. 0. 0. 0. 5. 0.]\n",
            " [0. 0. 0. 0. 0. 0. 0. 0. 0. 5.]]\n"
          ]
        }
      ]
    },
    {
      "cell_type": "code",
      "source": [
        "n_40 = np.full((4,3),5)\n",
        "print(n_40)"
      ],
      "metadata": {
        "colab": {
          "base_uri": "https://localhost:8080/"
        },
        "id": "GV57tWrnOROc",
        "outputId": "e67313d1-50cc-4b5b-dfba-f025060fbdaa"
      },
      "execution_count": 186,
      "outputs": [
        {
          "output_type": "stream",
          "name": "stdout",
          "text": [
            "[[5 5 5]\n",
            " [5 5 5]\n",
            " [5 5 5]\n",
            " [5 5 5]]\n"
          ]
        }
      ]
    },
    {
      "cell_type": "code",
      "source": [
        "o_40 = np.random.rand(7,5)\n",
        "print(o_40)"
      ],
      "metadata": {
        "colab": {
          "base_uri": "https://localhost:8080/"
        },
        "id": "Ym5P7Ye5Ps6N",
        "outputId": "404308d9-c79d-47eb-e7bd-e757556aea27"
      },
      "execution_count": 187,
      "outputs": [
        {
          "output_type": "stream",
          "name": "stdout",
          "text": [
            "[[0.34775452 0.89503604 0.65871689 0.60945817 0.83932097]\n",
            " [0.35689091 0.24843822 0.97582457 0.01999871 0.28187629]\n",
            " [0.24880021 0.63737878 0.93550603 0.02881067 0.4917042 ]\n",
            " [0.38298171 0.93019568 0.43868089 0.96247044 0.2898544 ]\n",
            " [0.65517279 0.24493242 0.37842366 0.64360932 0.70318257]\n",
            " [0.27930555 0.05160403 0.92337279 0.15966172 0.95223719]\n",
            " [0.72940693 0.56301352 0.05669077 0.92927412 0.27620078]]\n"
          ]
        }
      ]
    },
    {
      "cell_type": "code",
      "source": [
        "p_40 = np.random.randint(1,6,size=(4,5))\n",
        "print(p_40)"
      ],
      "metadata": {
        "colab": {
          "base_uri": "https://localhost:8080/"
        },
        "id": "A7H35DBqP4iJ",
        "outputId": "b43d499c-b767-419b-97b3-f45d58c451c7"
      },
      "execution_count": 188,
      "outputs": [
        {
          "output_type": "stream",
          "name": "stdout",
          "text": [
            "[[3 4 1 2 2]\n",
            " [5 5 4 3 2]\n",
            " [2 3 3 4 1]\n",
            " [3 4 4 2 5]]\n"
          ]
        }
      ]
    },
    {
      "cell_type": "code",
      "source": [
        "q_40 = np.zeros((8,8))\n",
        "s_40 = np.ones(8)*4\n",
        "u_40 = q_40 + s_40\n",
        "print(u_40)"
      ],
      "metadata": {
        "colab": {
          "base_uri": "https://localhost:8080/"
        },
        "id": "6s6tKlM0QMf-",
        "outputId": "31dfd565-a6de-48f2-b02c-858c994f3221"
      },
      "execution_count": 189,
      "outputs": [
        {
          "output_type": "stream",
          "name": "stdout",
          "text": [
            "[[4. 4. 4. 4. 4. 4. 4. 4.]\n",
            " [4. 4. 4. 4. 4. 4. 4. 4.]\n",
            " [4. 4. 4. 4. 4. 4. 4. 4.]\n",
            " [4. 4. 4. 4. 4. 4. 4. 4.]\n",
            " [4. 4. 4. 4. 4. 4. 4. 4.]\n",
            " [4. 4. 4. 4. 4. 4. 4. 4.]\n",
            " [4. 4. 4. 4. 4. 4. 4. 4.]\n",
            " [4. 4. 4. 4. 4. 4. 4. 4.]]\n"
          ]
        }
      ]
    },
    {
      "cell_type": "code",
      "source": [
        "m_40[1:-1,1:-1] = u_40\n",
        "print(m_40)"
      ],
      "metadata": {
        "colab": {
          "base_uri": "https://localhost:8080/"
        },
        "id": "v8qBu3jlQzUF",
        "outputId": "9a196b5f-096b-48ef-9a33-8a8927af6fda"
      },
      "execution_count": 190,
      "outputs": [
        {
          "output_type": "stream",
          "name": "stdout",
          "text": [
            "[[5. 0. 0. 0. 0. 0. 0. 0. 0. 0.]\n",
            " [0. 4. 4. 4. 4. 4. 4. 4. 4. 0.]\n",
            " [0. 4. 4. 4. 4. 4. 4. 4. 4. 0.]\n",
            " [0. 4. 4. 4. 4. 4. 4. 4. 4. 0.]\n",
            " [0. 4. 4. 4. 4. 4. 4. 4. 4. 0.]\n",
            " [0. 4. 4. 4. 4. 4. 4. 4. 4. 0.]\n",
            " [0. 4. 4. 4. 4. 4. 4. 4. 4. 0.]\n",
            " [0. 4. 4. 4. 4. 4. 4. 4. 4. 0.]\n",
            " [0. 4. 4. 4. 4. 4. 4. 4. 4. 0.]\n",
            " [0. 0. 0. 0. 0. 0. 0. 0. 0. 5.]]\n"
          ]
        }
      ]
    },
    {
      "cell_type": "code",
      "source": [
        "w_40 = np.identity(6)*7\n",
        "m_40[2:-2,2:-2] = w_40\n",
        "print(m_40)"
      ],
      "metadata": {
        "colab": {
          "base_uri": "https://localhost:8080/"
        },
        "id": "s_zNwBiwRG2q",
        "outputId": "dd82796f-7b36-4ce7-f77c-d780b51f1bc7"
      },
      "execution_count": 191,
      "outputs": [
        {
          "output_type": "stream",
          "name": "stdout",
          "text": [
            "[[5. 0. 0. 0. 0. 0. 0. 0. 0. 0.]\n",
            " [0. 4. 4. 4. 4. 4. 4. 4. 4. 0.]\n",
            " [0. 4. 7. 0. 0. 0. 0. 0. 4. 0.]\n",
            " [0. 4. 0. 7. 0. 0. 0. 0. 4. 0.]\n",
            " [0. 4. 0. 0. 7. 0. 0. 0. 4. 0.]\n",
            " [0. 4. 0. 0. 0. 7. 0. 0. 4. 0.]\n",
            " [0. 4. 0. 0. 0. 0. 7. 0. 4. 0.]\n",
            " [0. 4. 0. 0. 0. 0. 0. 7. 4. 0.]\n",
            " [0. 4. 4. 4. 4. 4. 4. 4. 4. 0.]\n",
            " [0. 0. 0. 0. 0. 0. 0. 0. 0. 5.]]\n"
          ]
        }
      ]
    },
    {
      "cell_type": "code",
      "source": [
        "e_40 = np.ones((4,4))*5\n",
        "f_40 = np.identity(4)*7\n",
        "g_40 = e_40 + f_40\n",
        "print(g_40)"
      ],
      "metadata": {
        "colab": {
          "base_uri": "https://localhost:8080/"
        },
        "id": "dd8PA9tSSbgN",
        "outputId": "3526f982-cc71-4498-d7a2-4c6f82d833dd"
      },
      "execution_count": 192,
      "outputs": [
        {
          "output_type": "stream",
          "name": "stdout",
          "text": [
            "[[12.  5.  5.  5.]\n",
            " [ 5. 12.  5.  5.]\n",
            " [ 5.  5. 12.  5.]\n",
            " [ 5.  5.  5. 12.]]\n"
          ]
        }
      ]
    },
    {
      "cell_type": "code",
      "source": [
        "m_40[3:-3,3:-3] = g_40\n",
        "print(m_40)"
      ],
      "metadata": {
        "colab": {
          "base_uri": "https://localhost:8080/"
        },
        "id": "hDSxbjsCUOFO",
        "outputId": "3d7c2c42-17fc-4a59-bfcf-3f54942ee6a8"
      },
      "execution_count": 193,
      "outputs": [
        {
          "output_type": "stream",
          "name": "stdout",
          "text": [
            "[[ 5.  0.  0.  0.  0.  0.  0.  0.  0.  0.]\n",
            " [ 0.  4.  4.  4.  4.  4.  4.  4.  4.  0.]\n",
            " [ 0.  4.  7.  0.  0.  0.  0.  0.  4.  0.]\n",
            " [ 0.  4.  0. 12.  5.  5.  5.  0.  4.  0.]\n",
            " [ 0.  4.  0.  5. 12.  5.  5.  0.  4.  0.]\n",
            " [ 0.  4.  0.  5.  5. 12.  5.  0.  4.  0.]\n",
            " [ 0.  4.  0.  5.  5.  5. 12.  0.  4.  0.]\n",
            " [ 0.  4.  0.  0.  0.  0.  0.  7.  4.  0.]\n",
            " [ 0.  4.  4.  4.  4.  4.  4.  4.  4.  0.]\n",
            " [ 0.  0.  0.  0.  0.  0.  0.  0.  0.  5.]]\n"
          ]
        }
      ]
    },
    {
      "cell_type": "code",
      "source": [
        "y_40 = np.identity(2)*7\n",
        "m_40[4:-4,4:-4] = y_40\n",
        "print(m_40)"
      ],
      "metadata": {
        "colab": {
          "base_uri": "https://localhost:8080/"
        },
        "id": "NrcKmts4UYuB",
        "outputId": "54aff7e2-58fc-421d-f267-c0bf936f72e3"
      },
      "execution_count": 194,
      "outputs": [
        {
          "output_type": "stream",
          "name": "stdout",
          "text": [
            "[[ 5.  0.  0.  0.  0.  0.  0.  0.  0.  0.]\n",
            " [ 0.  4.  4.  4.  4.  4.  4.  4.  4.  0.]\n",
            " [ 0.  4.  7.  0.  0.  0.  0.  0.  4.  0.]\n",
            " [ 0.  4.  0. 12.  5.  5.  5.  0.  4.  0.]\n",
            " [ 0.  4.  0.  5.  7.  0.  5.  0.  4.  0.]\n",
            " [ 0.  4.  0.  5.  0.  7.  5.  0.  4.  0.]\n",
            " [ 0.  4.  0.  5.  5.  5. 12.  0.  4.  0.]\n",
            " [ 0.  4.  0.  0.  0.  0.  0.  7.  4.  0.]\n",
            " [ 0.  4.  4.  4.  4.  4.  4.  4.  4.  0.]\n",
            " [ 0.  0.  0.  0.  0.  0.  0.  0.  0.  5.]]\n"
          ]
        }
      ]
    },
    {
      "cell_type": "code",
      "source": [
        "a_40 = np.array([2,3,4,5])\n",
        "print(a_40)"
      ],
      "metadata": {
        "colab": {
          "base_uri": "https://localhost:8080/"
        },
        "id": "B_eg8j07Ws4G",
        "outputId": "94c3b39e-2cf9-4c3c-b4b8-80192b1760df"
      },
      "execution_count": 195,
      "outputs": [
        {
          "output_type": "stream",
          "name": "stdout",
          "text": [
            "[2 3 4 5]\n"
          ]
        }
      ]
    },
    {
      "cell_type": "code",
      "source": [
        "b_40 = a_40\n",
        "print(b_40)"
      ],
      "metadata": {
        "colab": {
          "base_uri": "https://localhost:8080/"
        },
        "id": "yh7BSBd4Yz6R",
        "outputId": "43f335a6-04e7-489b-ca2c-7b1d273bf71e"
      },
      "execution_count": 196,
      "outputs": [
        {
          "output_type": "stream",
          "name": "stdout",
          "text": [
            "[2 3 4 5]\n"
          ]
        }
      ]
    },
    {
      "cell_type": "code",
      "source": [
        "b_40[0] = 0\n",
        "print(b_40)"
      ],
      "metadata": {
        "colab": {
          "base_uri": "https://localhost:8080/"
        },
        "id": "vS1OSm2DY5Gl",
        "outputId": "f29ccb90-e669-4ca1-def9-0c5149d68d39"
      },
      "execution_count": 197,
      "outputs": [
        {
          "output_type": "stream",
          "name": "stdout",
          "text": [
            "[0 3 4 5]\n"
          ]
        }
      ]
    },
    {
      "cell_type": "code",
      "source": [
        "print(a_40)"
      ],
      "metadata": {
        "colab": {
          "base_uri": "https://localhost:8080/"
        },
        "id": "XorGQYK5ZBOi",
        "outputId": "e39837ce-75eb-4956-f56b-31163d3abd4c"
      },
      "execution_count": 198,
      "outputs": [
        {
          "output_type": "stream",
          "name": "stdout",
          "text": [
            "[0 3 4 5]\n"
          ]
        }
      ]
    },
    {
      "cell_type": "code",
      "source": [
        "c_40 = np.array([6,7,8,9])\n",
        "print(c_40)"
      ],
      "metadata": {
        "colab": {
          "base_uri": "https://localhost:8080/"
        },
        "id": "cw15NfS7ZDxe",
        "outputId": "6c439812-3e2a-4ae7-d551-23dfc347ad3e"
      },
      "execution_count": 199,
      "outputs": [
        {
          "output_type": "stream",
          "name": "stdout",
          "text": [
            "[6 7 8 9]\n"
          ]
        }
      ]
    },
    {
      "cell_type": "code",
      "source": [
        "d_40 = c_40.copy()\n",
        "print(d_40)"
      ],
      "metadata": {
        "colab": {
          "base_uri": "https://localhost:8080/"
        },
        "id": "oEDOK0TBZRUg",
        "outputId": "07cccd4c-b223-4177-8174-a812724bf711"
      },
      "execution_count": 200,
      "outputs": [
        {
          "output_type": "stream",
          "name": "stdout",
          "text": [
            "[6 7 8 9]\n"
          ]
        }
      ]
    },
    {
      "cell_type": "code",
      "source": [
        "d_40[3] = 12\n",
        "print(d_40)"
      ],
      "metadata": {
        "colab": {
          "base_uri": "https://localhost:8080/"
        },
        "id": "G31nlBcfZYcw",
        "outputId": "02e3fd07-4377-42eb-f4b7-66218bbd1535"
      },
      "execution_count": 201,
      "outputs": [
        {
          "output_type": "stream",
          "name": "stdout",
          "text": [
            "[ 6  7  8 12]\n"
          ]
        }
      ]
    },
    {
      "cell_type": "code",
      "source": [
        "print(c_40)"
      ],
      "metadata": {
        "colab": {
          "base_uri": "https://localhost:8080/"
        },
        "id": "vanOaoUtZhFx",
        "outputId": "54701163-6c74-4f7d-c0af-a89d846bd0b1"
      },
      "execution_count": 202,
      "outputs": [
        {
          "output_type": "stream",
          "name": "stdout",
          "text": [
            "[6 7 8 9]\n"
          ]
        }
      ]
    },
    {
      "cell_type": "code",
      "source": [
        "a_40+5"
      ],
      "metadata": {
        "colab": {
          "base_uri": "https://localhost:8080/"
        },
        "id": "zshFFw0yZjJF",
        "outputId": "f3dad09b-3563-4122-f704-869a33e91d80"
      },
      "execution_count": 203,
      "outputs": [
        {
          "output_type": "execute_result",
          "data": {
            "text/plain": [
              "array([ 5,  8,  9, 10])"
            ]
          },
          "metadata": {},
          "execution_count": 203
        }
      ]
    },
    {
      "cell_type": "code",
      "source": [
        "a_40-3"
      ],
      "metadata": {
        "colab": {
          "base_uri": "https://localhost:8080/"
        },
        "id": "7nPyDpoFZz23",
        "outputId": "881c9e3c-cc03-4719-e693-ca2ec4f4eb43"
      },
      "execution_count": 204,
      "outputs": [
        {
          "output_type": "execute_result",
          "data": {
            "text/plain": [
              "array([-3,  0,  1,  2])"
            ]
          },
          "metadata": {},
          "execution_count": 204
        }
      ]
    },
    {
      "cell_type": "code",
      "source": [
        "a_40*4"
      ],
      "metadata": {
        "colab": {
          "base_uri": "https://localhost:8080/"
        },
        "id": "m1gmR7YNZ5hU",
        "outputId": "a8413383-7b8c-4a9e-9fa6-46445f311206"
      },
      "execution_count": 205,
      "outputs": [
        {
          "output_type": "execute_result",
          "data": {
            "text/plain": [
              "array([ 0, 12, 16, 20])"
            ]
          },
          "metadata": {},
          "execution_count": 205
        }
      ]
    },
    {
      "cell_type": "code",
      "source": [
        "a_40**3"
      ],
      "metadata": {
        "colab": {
          "base_uri": "https://localhost:8080/"
        },
        "id": "Q5-DITMhZ9N3",
        "outputId": "9878bf20-4302-45ce-c0c2-c69bd5376fe9"
      },
      "execution_count": 206,
      "outputs": [
        {
          "output_type": "execute_result",
          "data": {
            "text/plain": [
              "array([  0,  27,  64, 125])"
            ]
          },
          "metadata": {},
          "execution_count": 206
        }
      ]
    },
    {
      "cell_type": "code",
      "source": [
        "z_40 = np.array([7,8,9,10])\n",
        "print(z_40)"
      ],
      "metadata": {
        "colab": {
          "base_uri": "https://localhost:8080/"
        },
        "id": "ID0T8ny0aAYu",
        "outputId": "398cc561-bb24-4ee3-d573-246ac9da0405"
      },
      "execution_count": 207,
      "outputs": [
        {
          "output_type": "stream",
          "name": "stdout",
          "text": [
            "[ 7  8  9 10]\n"
          ]
        }
      ]
    },
    {
      "cell_type": "code",
      "source": [
        "a_40+z_40"
      ],
      "metadata": {
        "colab": {
          "base_uri": "https://localhost:8080/"
        },
        "id": "LDscMd-ybGWN",
        "outputId": "3eb97b28-f504-4f6b-8f47-ffe13f5af7cd"
      },
      "execution_count": 208,
      "outputs": [
        {
          "output_type": "execute_result",
          "data": {
            "text/plain": [
              "array([ 7, 11, 13, 15])"
            ]
          },
          "metadata": {},
          "execution_count": 208
        }
      ]
    },
    {
      "cell_type": "code",
      "source": [
        "a_40-z_40"
      ],
      "metadata": {
        "colab": {
          "base_uri": "https://localhost:8080/"
        },
        "id": "z2RYLyt3bOP5",
        "outputId": "373f2833-72f6-4826-bd07-b351de1e2ddb"
      },
      "execution_count": 209,
      "outputs": [
        {
          "output_type": "execute_result",
          "data": {
            "text/plain": [
              "array([-7, -5, -5, -5])"
            ]
          },
          "metadata": {},
          "execution_count": 209
        }
      ]
    },
    {
      "cell_type": "code",
      "source": [
        "a_40*z_40"
      ],
      "metadata": {
        "colab": {
          "base_uri": "https://localhost:8080/"
        },
        "id": "N7aCXklobRma",
        "outputId": "927923cb-dcab-49b6-bba4-440735eacf0b"
      },
      "execution_count": 210,
      "outputs": [
        {
          "output_type": "execute_result",
          "data": {
            "text/plain": [
              "array([ 0, 24, 36, 50])"
            ]
          },
          "metadata": {},
          "execution_count": 210
        }
      ]
    },
    {
      "cell_type": "code",
      "source": [
        "a_40/z_40"
      ],
      "metadata": {
        "colab": {
          "base_uri": "https://localhost:8080/"
        },
        "id": "RWHudP81bUJX",
        "outputId": "8a29ce5c-84da-46e2-b000-a6e3946b058c"
      },
      "execution_count": 211,
      "outputs": [
        {
          "output_type": "execute_result",
          "data": {
            "text/plain": [
              "array([0.        , 0.375     , 0.44444444, 0.5       ])"
            ]
          },
          "metadata": {},
          "execution_count": 211
        }
      ]
    },
    {
      "cell_type": "code",
      "source": [
        "z_40**a_40"
      ],
      "metadata": {
        "colab": {
          "base_uri": "https://localhost:8080/"
        },
        "id": "2e0K_Hu0bZw4",
        "outputId": "ecf4f470-cef8-4bbf-f1d8-2f9566325e3a"
      },
      "execution_count": 212,
      "outputs": [
        {
          "output_type": "execute_result",
          "data": {
            "text/plain": [
              "array([     1,    512,   6561, 100000])"
            ]
          },
          "metadata": {},
          "execution_count": 212
        }
      ]
    },
    {
      "cell_type": "code",
      "source": [
        "np.cos(a_40)"
      ],
      "metadata": {
        "colab": {
          "base_uri": "https://localhost:8080/"
        },
        "id": "VMDV6CAHbgHs",
        "outputId": "f8bca610-22d7-4f99-a288-2845a38e1f61"
      },
      "execution_count": 213,
      "outputs": [
        {
          "output_type": "execute_result",
          "data": {
            "text/plain": [
              "array([ 1.        , -0.9899925 , -0.65364362,  0.28366219])"
            ]
          },
          "metadata": {},
          "execution_count": 213
        }
      ]
    },
    {
      "cell_type": "code",
      "source": [
        "np.sin(z_40)"
      ],
      "metadata": {
        "colab": {
          "base_uri": "https://localhost:8080/"
        },
        "id": "7-JcKPeab2Sc",
        "outputId": "83b0be52-1f3e-4745-d036-476e99d41f00"
      },
      "execution_count": 214,
      "outputs": [
        {
          "output_type": "execute_result",
          "data": {
            "text/plain": [
              "array([ 0.6569866 ,  0.98935825,  0.41211849, -0.54402111])"
            ]
          },
          "metadata": {},
          "execution_count": 214
        }
      ]
    },
    {
      "cell_type": "code",
      "source": [
        "np.tan(a_40)"
      ],
      "metadata": {
        "colab": {
          "base_uri": "https://localhost:8080/"
        },
        "id": "iaWjtDAelw6S",
        "outputId": "49592bd3-ad69-47ec-c7e8-e095e3efafd5"
      },
      "execution_count": 215,
      "outputs": [
        {
          "output_type": "execute_result",
          "data": {
            "text/plain": [
              "array([ 0.        , -0.14254654,  1.15782128, -3.38051501])"
            ]
          },
          "metadata": {},
          "execution_count": 215
        }
      ]
    },
    {
      "cell_type": "code",
      "source": [
        "np.sinh(z_40)"
      ],
      "metadata": {
        "colab": {
          "base_uri": "https://localhost:8080/"
        },
        "id": "i1SEggvblzqD",
        "outputId": "3ec8a287-ff36-4c7f-f12f-8d3c015714c3"
      },
      "execution_count": 216,
      "outputs": [
        {
          "output_type": "execute_result",
          "data": {
            "text/plain": [
              "array([  548.31612327,  1490.47882579,  4051.54190208, 11013.2328747 ])"
            ]
          },
          "metadata": {},
          "execution_count": 216
        }
      ]
    },
    {
      "cell_type": "code",
      "source": [
        "np.cosh(a_40)"
      ],
      "metadata": {
        "colab": {
          "base_uri": "https://localhost:8080/"
        },
        "id": "MOm7KLsMl3Ib",
        "outputId": "6becc54e-05f3-45fd-fe8c-fa7030886f83"
      },
      "execution_count": 217,
      "outputs": [
        {
          "output_type": "execute_result",
          "data": {
            "text/plain": [
              "array([ 1.        , 10.067662  , 27.30823284, 74.20994852])"
            ]
          },
          "metadata": {},
          "execution_count": 217
        }
      ]
    },
    {
      "cell_type": "code",
      "source": [
        "np.tanh(z_40)"
      ],
      "metadata": {
        "colab": {
          "base_uri": "https://localhost:8080/"
        },
        "id": "Y9StsGJ1l5c8",
        "outputId": "7a719141-6846-4488-fffe-46be0ab7b4ac"
      },
      "execution_count": 218,
      "outputs": [
        {
          "output_type": "execute_result",
          "data": {
            "text/plain": [
              "array([0.99999834, 0.99999977, 0.99999997, 1.        ])"
            ]
          },
          "metadata": {},
          "execution_count": 218
        }
      ]
    },
    {
      "cell_type": "code",
      "source": [
        "np.sqrt(a_40)"
      ],
      "metadata": {
        "colab": {
          "base_uri": "https://localhost:8080/"
        },
        "id": "YBNoHXgIl8QP",
        "outputId": "cd27ba40-3368-4211-8a78-0f7e17d22bf9"
      },
      "execution_count": 219,
      "outputs": [
        {
          "output_type": "execute_result",
          "data": {
            "text/plain": [
              "array([0.        , 1.73205081, 2.        , 2.23606798])"
            ]
          },
          "metadata": {},
          "execution_count": 219
        }
      ]
    },
    {
      "cell_type": "code",
      "source": [
        "np.sqrt(z_40)"
      ],
      "metadata": {
        "colab": {
          "base_uri": "https://localhost:8080/"
        },
        "id": "lWg8RxASl-1Z",
        "outputId": "56595024-7e05-4da0-9bd0-ccf6af5a5936"
      },
      "execution_count": 220,
      "outputs": [
        {
          "output_type": "execute_result",
          "data": {
            "text/plain": [
              "array([2.64575131, 2.82842712, 3.        , 3.16227766])"
            ]
          },
          "metadata": {},
          "execution_count": 220
        }
      ]
    },
    {
      "cell_type": "code",
      "source": [
        "p_40 = np.array([[12,11,10,9,8,7],[6,5,4,3,2,1]])\n",
        "print(p_40)"
      ],
      "metadata": {
        "colab": {
          "base_uri": "https://localhost:8080/"
        },
        "id": "SJb5eCm4mBPG",
        "outputId": "ff70bc16-63e2-4b0e-d33e-4b25ffbe5b5b"
      },
      "execution_count": 221,
      "outputs": [
        {
          "output_type": "stream",
          "name": "stdout",
          "text": [
            "[[12 11 10  9  8  7]\n",
            " [ 6  5  4  3  2  1]]\n"
          ]
        }
      ]
    },
    {
      "cell_type": "code",
      "source": [
        "q_40 = np.array([[2,3,4,5,6,7],[8,9,10,11,12,13]])\n",
        "print(q_40)"
      ],
      "metadata": {
        "colab": {
          "base_uri": "https://localhost:8080/"
        },
        "id": "bZSGlJ30mXZm",
        "outputId": "c03b59c7-4815-45be-b3dc-53300678b0f1"
      },
      "execution_count": 222,
      "outputs": [
        {
          "output_type": "stream",
          "name": "stdout",
          "text": [
            "[[ 2  3  4  5  6  7]\n",
            " [ 8  9 10 11 12 13]]\n"
          ]
        }
      ]
    },
    {
      "cell_type": "code",
      "source": [
        "r_40 = p_40*q_40\n",
        "print(r_40)"
      ],
      "metadata": {
        "colab": {
          "base_uri": "https://localhost:8080/"
        },
        "id": "y75R9Jkim4vX",
        "outputId": "43e7cbcb-3370-4b9b-b408-a2125543bc6f"
      },
      "execution_count": 223,
      "outputs": [
        {
          "output_type": "stream",
          "name": "stdout",
          "text": [
            "[[24 33 40 45 48 49]\n",
            " [48 45 40 33 24 13]]\n"
          ]
        }
      ]
    },
    {
      "cell_type": "code",
      "source": [
        "s_40 = np.array([[4,5],[6,7],[8,9],[10,11],[12,13],[14,15]])\n",
        "print(s_40)"
      ],
      "metadata": {
        "colab": {
          "base_uri": "https://localhost:8080/"
        },
        "id": "zOODPnidm97E",
        "outputId": "5c294ed8-c880-40bd-9bca-dfb31926cade"
      },
      "execution_count": 224,
      "outputs": [
        {
          "output_type": "stream",
          "name": "stdout",
          "text": [
            "[[ 4  5]\n",
            " [ 6  7]\n",
            " [ 8  9]\n",
            " [10 11]\n",
            " [12 13]\n",
            " [14 15]]\n"
          ]
        }
      ]
    },
    {
      "cell_type": "code",
      "source": [
        "v_40 = np.matmul(p_40,s_40)\n",
        "print(v_40)"
      ],
      "metadata": {
        "colab": {
          "base_uri": "https://localhost:8080/"
        },
        "id": "aJ-AmZTznFtw",
        "outputId": "2fa06dd3-9a2d-42f6-8ce7-bef369f232f6"
      },
      "execution_count": 225,
      "outputs": [
        {
          "output_type": "stream",
          "name": "stdout",
          "text": [
            "[[478 535]\n",
            " [154 175]]\n"
          ]
        }
      ]
    },
    {
      "cell_type": "code",
      "source": [
        "e_40 = np.array([[21,22,23,24,25],[26,27,28,29,30],[31,32,33,34,35]])\n",
        "print(e_40)"
      ],
      "metadata": {
        "colab": {
          "base_uri": "https://localhost:8080/"
        },
        "id": "uSukR3XToYno",
        "outputId": "a53a8511-d6c1-4919-f092-4dc445fe269c"
      },
      "execution_count": 228,
      "outputs": [
        {
          "output_type": "stream",
          "name": "stdout",
          "text": [
            "[[21 22 23 24 25]\n",
            " [26 27 28 29 30]\n",
            " [31 32 33 34 35]]\n"
          ]
        }
      ]
    },
    {
      "cell_type": "code",
      "source": [
        "f_40 = np.min(e_40)\n",
        "print(f_40)"
      ],
      "metadata": {
        "colab": {
          "base_uri": "https://localhost:8080/"
        },
        "id": "jOMn4383vrAI",
        "outputId": "2fea26c2-a7ef-4911-a3bd-937658ff590f"
      },
      "execution_count": 229,
      "outputs": [
        {
          "output_type": "stream",
          "name": "stdout",
          "text": [
            "21\n"
          ]
        }
      ]
    },
    {
      "cell_type": "code",
      "source": [
        "g_40 = np.min(e_40,axis=0)\n",
        "print(g_40)"
      ],
      "metadata": {
        "colab": {
          "base_uri": "https://localhost:8080/"
        },
        "id": "Zs-yzhX6vyp6",
        "outputId": "078f7819-90d3-4918-d37f-110f141619e8"
      },
      "execution_count": 230,
      "outputs": [
        {
          "output_type": "stream",
          "name": "stdout",
          "text": [
            "[21 22 23 24 25]\n"
          ]
        }
      ]
    },
    {
      "cell_type": "code",
      "source": [
        "h_40 = np.min(e_40,axis=1)\n",
        "print(h_40)"
      ],
      "metadata": {
        "colab": {
          "base_uri": "https://localhost:8080/"
        },
        "id": "QKmvaqOsv5Qh",
        "outputId": "ed978644-557c-4ee2-dd87-8d4f6f461b66"
      },
      "execution_count": 231,
      "outputs": [
        {
          "output_type": "stream",
          "name": "stdout",
          "text": [
            "[21 26 31]\n"
          ]
        }
      ]
    },
    {
      "cell_type": "code",
      "source": [
        "i_40 = np.max(e_40)\n",
        "print(i_40)"
      ],
      "metadata": {
        "colab": {
          "base_uri": "https://localhost:8080/"
        },
        "id": "RcSVIG1lwCP-",
        "outputId": "bf6e4615-989c-4317-eeb5-cbd2722804fc"
      },
      "execution_count": 232,
      "outputs": [
        {
          "output_type": "stream",
          "name": "stdout",
          "text": [
            "35\n"
          ]
        }
      ]
    },
    {
      "cell_type": "code",
      "source": [
        "j_40 = np.max(e_40,axis=0)\n",
        "print(j_40)"
      ],
      "metadata": {
        "colab": {
          "base_uri": "https://localhost:8080/"
        },
        "id": "2RT7zKEuwG6y",
        "outputId": "ad0c755d-56f9-49b7-d761-e538c3dc593f"
      },
      "execution_count": 233,
      "outputs": [
        {
          "output_type": "stream",
          "name": "stdout",
          "text": [
            "[31 32 33 34 35]\n"
          ]
        }
      ]
    },
    {
      "cell_type": "code",
      "source": [
        "k_40 = np.max(e_40,axis=1)\n",
        "print(k_40)"
      ],
      "metadata": {
        "colab": {
          "base_uri": "https://localhost:8080/"
        },
        "id": "SJn8VL1xwelp",
        "outputId": "19637bd3-f937-408c-81a4-c5dfd9fd2256"
      },
      "execution_count": 234,
      "outputs": [
        {
          "output_type": "stream",
          "name": "stdout",
          "text": [
            "[25 30 35]\n"
          ]
        }
      ]
    },
    {
      "cell_type": "code",
      "source": [
        "l_40 = np.sum(e_40)\n",
        "print(l_40)"
      ],
      "metadata": {
        "colab": {
          "base_uri": "https://localhost:8080/"
        },
        "id": "ArmJNKGxwk1_",
        "outputId": "f8120fd4-fe86-4c5c-c8b0-c2f79ef1f804"
      },
      "execution_count": 235,
      "outputs": [
        {
          "output_type": "stream",
          "name": "stdout",
          "text": [
            "420\n"
          ]
        }
      ]
    },
    {
      "cell_type": "code",
      "source": [
        "m_40 = np.sum(e_40,axis=0)\n",
        "print(m_40)"
      ],
      "metadata": {
        "colab": {
          "base_uri": "https://localhost:8080/"
        },
        "id": "mxyqz7ObwqPN",
        "outputId": "07d2110b-91f7-4ff2-c58a-b5c0c929e663"
      },
      "execution_count": 236,
      "outputs": [
        {
          "output_type": "stream",
          "name": "stdout",
          "text": [
            "[78 81 84 87 90]\n"
          ]
        }
      ]
    },
    {
      "cell_type": "code",
      "source": [
        "n_40 = np.sum(e_40,axis=1)\n",
        "print(n_40)"
      ],
      "metadata": {
        "colab": {
          "base_uri": "https://localhost:8080/"
        },
        "id": "1iT1gXZ8wv4v",
        "outputId": "30eee549-af83-4198-e97d-e7f86168779f"
      },
      "execution_count": 237,
      "outputs": [
        {
          "output_type": "stream",
          "name": "stdout",
          "text": [
            "[115 140 165]\n"
          ]
        }
      ]
    }
  ]
}